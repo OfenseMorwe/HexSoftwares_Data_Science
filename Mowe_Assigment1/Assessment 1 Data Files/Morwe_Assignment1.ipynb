{
 "cells": [
  {
   "cell_type": "code",
   "execution_count": 3,
   "metadata": {},
   "outputs": [],
   "source": [
    "import seaborn as sns\n",
    "import pandas as pd\n",
    "import numpy as np\n",
    "import matplotlib.pyplot as plt\n",
    "from sklearn.linear_model import LinearRegression\n",
    "from sklearn.model_selection import train_test_split\n",
    "from sklearn.preprocessing import StandardScaler\n",
    "from sklearn.feature_selection import SelectKBest, mutual_info_regression\n",
    "import re\n"
   ]
  },
  {
   "cell_type": "code",
   "execution_count": null,
   "metadata": {},
   "outputs": [
    {
     "name": "stdout",
     "output_type": "stream",
     "text": [
      "1.3.4\n"
     ]
    }
   ],
   "source": [
    "print(pd.__version__)"
   ]
  },
  {
   "cell_type": "code",
   "execution_count": null,
   "metadata": {},
   "outputs": [],
   "source": [
    "import geopandas as gpd\n"
   ]
  },
  {
   "cell_type": "code",
   "execution_count": 5,
   "metadata": {},
   "outputs": [
    {
     "name": "stdout",
     "output_type": "stream",
     "text": [
      "Rows: 204267\n"
     ]
    }
   ],
   "source": [
    "df = pd.read_csv(\"tsa_claims2.csv\",low_memory=False)\n",
    "\n",
    "#Format columns nicely for dataframe index\n",
    "df.columns = [s.strip().replace(\" \",\"_\") for s in df.columns]\n",
    "\n",
    "#Rename date columns\n",
    "df[\"Date_Received_String\"] = df.Date_Received\n",
    "df[\"Incident_Date_String\"] = df.Incident_Date\n",
    "df.drop([\"Date_Received\",\"Incident_Date\"], axis=1, inplace=True)\n",
    "\n",
    "print(\"Rows:\", len(df))"
   ]
  },
  {
   "cell_type": "code",
   "execution_count": null,
   "metadata": {},
   "outputs": [
    {
     "data": {
      "text/html": [
       "<div>\n",
       "<style scoped>\n",
       "    .dataframe tbody tr th:only-of-type {\n",
       "        vertical-align: middle;\n",
       "    }\n",
       "\n",
       "    .dataframe tbody tr th {\n",
       "        vertical-align: top;\n",
       "    }\n",
       "\n",
       "    .dataframe thead th {\n",
       "        text-align: right;\n",
       "    }\n",
       "</style>\n",
       "<table border=\"1\" class=\"dataframe\">\n",
       "  <thead>\n",
       "    <tr style=\"text-align: right;\">\n",
       "      <th></th>\n",
       "      <th>Claim_Number</th>\n",
       "      <th>Airport_Code</th>\n",
       "      <th>Airport_Name</th>\n",
       "      <th>Airline_Name</th>\n",
       "      <th>Claim_Type</th>\n",
       "      <th>Claim_Site</th>\n",
       "      <th>Item</th>\n",
       "      <th>Claim_Amount</th>\n",
       "      <th>Status</th>\n",
       "      <th>Close_Amount</th>\n",
       "      <th>Disposition</th>\n",
       "      <th>Date_Received_String</th>\n",
       "      <th>Incident_Date_String</th>\n",
       "    </tr>\n",
       "  </thead>\n",
       "  <tbody>\n",
       "    <tr>\n",
       "      <th>0</th>\n",
       "      <td>0909802M</td>\n",
       "      <td>EWR</td>\n",
       "      <td>Newark International Airport</td>\n",
       "      <td>Continental Airlines</td>\n",
       "      <td>Property Damage</td>\n",
       "      <td>Checkpoint</td>\n",
       "      <td>Other</td>\n",
       "      <td>$350.00</td>\n",
       "      <td>Approved</td>\n",
       "      <td>$350.00</td>\n",
       "      <td>Approve in Full</td>\n",
       "      <td>4-Jan-02</td>\n",
       "      <td>12/12/2002 0:00</td>\n",
       "    </tr>\n",
       "    <tr>\n",
       "      <th>1</th>\n",
       "      <td>0202417M</td>\n",
       "      <td>SEA</td>\n",
       "      <td>Seattle-Tacoma International</td>\n",
       "      <td>NaN</td>\n",
       "      <td>Property Damage</td>\n",
       "      <td>Checked Baggage</td>\n",
       "      <td>Luggage (all types including footlockers)</td>\n",
       "      <td>$100.00</td>\n",
       "      <td>Settled</td>\n",
       "      <td>$50.00</td>\n",
       "      <td>Settle</td>\n",
       "      <td>2-Feb-02</td>\n",
       "      <td>1/16/2004 0:00</td>\n",
       "    </tr>\n",
       "    <tr>\n",
       "      <th>2</th>\n",
       "      <td>0202445M</td>\n",
       "      <td>STL</td>\n",
       "      <td>Lambert St. Louis International</td>\n",
       "      <td>American Airlines</td>\n",
       "      <td>Property Damage</td>\n",
       "      <td>Checked Baggage</td>\n",
       "      <td>Cell Phones</td>\n",
       "      <td>$278.88</td>\n",
       "      <td>Settled</td>\n",
       "      <td>$227.92</td>\n",
       "      <td>Settle</td>\n",
       "      <td>4-Feb-02</td>\n",
       "      <td>11/26/2003 0:00</td>\n",
       "    </tr>\n",
       "    <tr>\n",
       "      <th>3</th>\n",
       "      <td>0909816M</td>\n",
       "      <td>MIA</td>\n",
       "      <td>Miami International Airport</td>\n",
       "      <td>American Airlines</td>\n",
       "      <td>Property Damage</td>\n",
       "      <td>Checkpoint</td>\n",
       "      <td>Luggage (all types including footlockers)</td>\n",
       "      <td>$50.00</td>\n",
       "      <td>Approved</td>\n",
       "      <td>$50.00</td>\n",
       "      <td>Approve in Full</td>\n",
       "      <td>7-Feb-02</td>\n",
       "      <td>1/6/2003 0:00</td>\n",
       "    </tr>\n",
       "    <tr>\n",
       "      <th>4</th>\n",
       "      <td>2005032379513</td>\n",
       "      <td>MCO</td>\n",
       "      <td>Orlando International Airport</td>\n",
       "      <td>Delta (Song)</td>\n",
       "      <td>Property Damage</td>\n",
       "      <td>Checkpoint</td>\n",
       "      <td>Baby - Strollers; car seats; playpen; etc.</td>\n",
       "      <td>$84.79</td>\n",
       "      <td>Approved</td>\n",
       "      <td>$84.79</td>\n",
       "      <td>Approve in Full</td>\n",
       "      <td>18-Feb-02</td>\n",
       "      <td>2/5/2005 0:00</td>\n",
       "    </tr>\n",
       "    <tr>\n",
       "      <th>...</th>\n",
       "      <td>...</td>\n",
       "      <td>...</td>\n",
       "      <td>...</td>\n",
       "      <td>...</td>\n",
       "      <td>...</td>\n",
       "      <td>...</td>\n",
       "      <td>...</td>\n",
       "      <td>...</td>\n",
       "      <td>...</td>\n",
       "      <td>...</td>\n",
       "      <td>...</td>\n",
       "      <td>...</td>\n",
       "      <td>...</td>\n",
       "    </tr>\n",
       "    <tr>\n",
       "      <th>204262</th>\n",
       "      <td>2015120427297</td>\n",
       "      <td>-</td>\n",
       "      <td>-</td>\n",
       "      <td>-</td>\n",
       "      <td>Property Damage</td>\n",
       "      <td>Checked Baggage</td>\n",
       "      <td>Baggage/Cases/Purses; Books; Magazines &amp; Other...</td>\n",
       "      <td>-</td>\n",
       "      <td>-</td>\n",
       "      <td>NaN</td>\n",
       "      <td>NaN</td>\n",
       "      <td>20-Nov-15</td>\n",
       "      <td>16-Oct-15</td>\n",
       "    </tr>\n",
       "    <tr>\n",
       "      <th>204263</th>\n",
       "      <td>2015123027969</td>\n",
       "      <td>-</td>\n",
       "      <td>-</td>\n",
       "      <td>-</td>\n",
       "      <td>Property Damage</td>\n",
       "      <td>Checked Baggage</td>\n",
       "      <td>Audio/Video; Home Decor</td>\n",
       "      <td>-</td>\n",
       "      <td>-</td>\n",
       "      <td>NaN</td>\n",
       "      <td>NaN</td>\n",
       "      <td>17-Dec-15</td>\n",
       "      <td>2-Dec-15</td>\n",
       "    </tr>\n",
       "    <tr>\n",
       "      <th>204264</th>\n",
       "      <td>2016010428072</td>\n",
       "      <td>-</td>\n",
       "      <td>-</td>\n",
       "      <td>-</td>\n",
       "      <td>Passenger Property Loss</td>\n",
       "      <td>Checked Baggage</td>\n",
       "      <td>Clothing</td>\n",
       "      <td>-</td>\n",
       "      <td>-</td>\n",
       "      <td>NaN</td>\n",
       "      <td>NaN</td>\n",
       "      <td>22-Dec-15</td>\n",
       "      <td>20-Dec-15</td>\n",
       "    </tr>\n",
       "    <tr>\n",
       "      <th>204265</th>\n",
       "      <td>2016011328300</td>\n",
       "      <td>-</td>\n",
       "      <td>-</td>\n",
       "      <td>-</td>\n",
       "      <td>Passenger Property Loss</td>\n",
       "      <td>Checked Baggage</td>\n",
       "      <td>Tools &amp; Home Improvement Supplies</td>\n",
       "      <td>-</td>\n",
       "      <td>-</td>\n",
       "      <td>NaN</td>\n",
       "      <td>NaN</td>\n",
       "      <td>30-Dec-15</td>\n",
       "      <td>28-Dec-15</td>\n",
       "    </tr>\n",
       "    <tr>\n",
       "      <th>204266</th>\n",
       "      <td>2015123128015</td>\n",
       "      <td>-</td>\n",
       "      <td>-</td>\n",
       "      <td>-</td>\n",
       "      <td>Passenger Property Loss</td>\n",
       "      <td>Checkpoint</td>\n",
       "      <td>Personal Accessories</td>\n",
       "      <td>-</td>\n",
       "      <td>-</td>\n",
       "      <td>NaN</td>\n",
       "      <td>NaN</td>\n",
       "      <td>31-Dec-15</td>\n",
       "      <td>23-Nov-15</td>\n",
       "    </tr>\n",
       "  </tbody>\n",
       "</table>\n",
       "<p>204267 rows × 13 columns</p>\n",
       "</div>"
      ],
      "text/plain": [
       "         Claim_Number Airport_Code                     Airport_Name  \\\n",
       "0            0909802M          EWR     Newark International Airport   \n",
       "1            0202417M          SEA     Seattle-Tacoma International   \n",
       "2            0202445M          STL  Lambert St. Louis International   \n",
       "3            0909816M          MIA      Miami International Airport   \n",
       "4       2005032379513          MCO    Orlando International Airport   \n",
       "...               ...          ...                              ...   \n",
       "204262  2015120427297            -                                -   \n",
       "204263  2015123027969            -                                -   \n",
       "204264  2016010428072            -                                -   \n",
       "204265  2016011328300            -                                -   \n",
       "204266  2015123128015            -                                -   \n",
       "\n",
       "                Airline_Name               Claim_Type       Claim_Site  \\\n",
       "0       Continental Airlines          Property Damage       Checkpoint   \n",
       "1                        NaN          Property Damage  Checked Baggage   \n",
       "2          American Airlines          Property Damage  Checked Baggage   \n",
       "3          American Airlines          Property Damage       Checkpoint   \n",
       "4               Delta (Song)          Property Damage       Checkpoint   \n",
       "...                      ...                      ...              ...   \n",
       "204262                     -          Property Damage  Checked Baggage   \n",
       "204263                     -          Property Damage  Checked Baggage   \n",
       "204264                     -  Passenger Property Loss  Checked Baggage   \n",
       "204265                     -  Passenger Property Loss  Checked Baggage   \n",
       "204266                     -  Passenger Property Loss       Checkpoint   \n",
       "\n",
       "                                                     Item Claim_Amount  \\\n",
       "0                                                   Other     $350.00    \n",
       "1               Luggage (all types including footlockers)     $100.00    \n",
       "2                                             Cell Phones     $278.88    \n",
       "3               Luggage (all types including footlockers)      $50.00    \n",
       "4              Baby - Strollers; car seats; playpen; etc.      $84.79    \n",
       "...                                                   ...          ...   \n",
       "204262  Baggage/Cases/Purses; Books; Magazines & Other...            -   \n",
       "204263                            Audio/Video; Home Decor            -   \n",
       "204264                                           Clothing            -   \n",
       "204265                  Tools & Home Improvement Supplies            -   \n",
       "204266                               Personal Accessories            -   \n",
       "\n",
       "          Status Close_Amount      Disposition Date_Received_String  \\\n",
       "0       Approved     $350.00   Approve in Full             4-Jan-02   \n",
       "1        Settled      $50.00            Settle             2-Feb-02   \n",
       "2        Settled     $227.92            Settle             4-Feb-02   \n",
       "3       Approved      $50.00   Approve in Full             7-Feb-02   \n",
       "4       Approved      $84.79   Approve in Full            18-Feb-02   \n",
       "...          ...          ...              ...                  ...   \n",
       "204262         -          NaN              NaN            20-Nov-15   \n",
       "204263         -          NaN              NaN            17-Dec-15   \n",
       "204264         -          NaN              NaN            22-Dec-15   \n",
       "204265         -          NaN              NaN            30-Dec-15   \n",
       "204266         -          NaN              NaN            31-Dec-15   \n",
       "\n",
       "       Incident_Date_String  \n",
       "0           12/12/2002 0:00  \n",
       "1            1/16/2004 0:00  \n",
       "2           11/26/2003 0:00  \n",
       "3             1/6/2003 0:00  \n",
       "4             2/5/2005 0:00  \n",
       "...                     ...  \n",
       "204262            16-Oct-15  \n",
       "204263             2-Dec-15  \n",
       "204264            20-Dec-15  \n",
       "204265            28-Dec-15  \n",
       "204266            23-Nov-15  \n",
       "\n",
       "[204267 rows x 13 columns]"
      ]
     },
     "execution_count": 36,
     "metadata": {},
     "output_type": "execute_result"
    }
   ],
   "source": [
    "df"
   ]
  },
  {
   "cell_type": "markdown",
   "metadata": {},
   "source": [
    "Data Cleaning\n"
   ]
  },
  {
   "cell_type": "code",
   "execution_count": null,
   "metadata": {},
   "outputs": [
    {
     "name": "stdout",
     "output_type": "stream",
     "text": [
      "Nulls    Rows     Cum. Rows\n",
      " 0:      94848     204267\n",
      " 1:      32404     109419\n",
      " 2:      66106      77015\n",
      " 3:       4582      10909\n",
      " 4:       1970       6327\n",
      " 5:       2253       4357\n",
      " 6:        977       2104\n",
      " 7:        321       1127\n",
      " 8:        634        806\n",
      " 9:         42        172\n",
      "10:        106        130\n",
      "11:         19         24\n",
      "12:          5          5\n"
     ]
    }
   ],
   "source": [
    "# Check distribution of nulls per row\n",
    "temp = df.isnull().sum(axis=1).value_counts().sort_index()\n",
    "print (\"Nulls    Rows     Cum. Rows\")\n",
    "for i in range(len(temp)):\n",
    "    print (\"{:2d}: {:10d} {:10d}\".format(temp.index[i], temp[i], temp[i:].sum()))"
   ]
  },
  {
   "cell_type": "markdown",
   "metadata": {},
   "source": [
    "I found that the Airline, Airport, Claim Type, Claim Site, and Item columns have many nulls. I can treat these nulls as \"Other\" or \"Missing\" since they’re categorical values.\n",
    "\n",
    "For the Claim Amount, Incident Date, and Date Received columns, which are numerical, I’ll discard any entries with null values, as there's no straightforward way to assign them a value"
   ]
  },
  {
   "cell_type": "code",
   "execution_count": null,
   "metadata": {},
   "outputs": [
    {
     "data": {
      "text/plain": [
       "Disposition             72908\n",
       "Close_Amount            68952\n",
       "Airline_Name            34374\n",
       "Airport_Code             8524\n",
       "Airport_Name             8524\n",
       "Claim_Type               7913\n",
       "Claim_Amount             4043\n",
       "Item                     3966\n",
       "Incident_Date_String     2183\n",
       "Claim_Site                740\n",
       "Date_Received_String      263\n",
       "Status                      5\n",
       "Claim_Number                0\n",
       "dtype: int64"
      ]
     },
     "execution_count": 38,
     "metadata": {},
     "output_type": "execute_result"
    }
   ],
   "source": [
    "# Check distribution of nulls per column\n",
    "df.isnull().sum().sort_values(ascending=False)"
   ]
  },
  {
   "cell_type": "markdown",
   "metadata": {},
   "source": [
    "Status has 5 nulls. I have to discard those rows, since that's the variable I'm trying to predict"
   ]
  },
  {
   "cell_type": "code",
   "execution_count": null,
   "metadata": {},
   "outputs": [
    {
     "name": "stdout",
     "output_type": "stream",
     "text": [
      "203461\n"
     ]
    }
   ],
   "source": [
    "#Drop rows with too many nulls\n",
    "df.dropna(thresh=6, inplace=True)\n",
    "\n",
    "#Fill NA for categorical columns\n",
    "fill_columns = [\"Airline_Name\",\"Airport_Name\",\"Airport_Code\",\"Claim_Type\",\"Claim_Site\",\"Item\"]\n",
    "df[fill_columns] = df[fill_columns].fillna(\"-\")\n",
    "\n",
    "#Set NA Claim Amount to 0. Zeros are dropped later in the code.\n",
    "df[\"Claim_Amount\"] = df.Claim_Amount.fillna(\"$0.00\")\n",
    "\n",
    "#Dropping these nulls later on:\n",
    "#  Incident Date / Date Received\n",
    "#  Status\n",
    "\n",
    "print(len(df))"
   ]
  },
  {
   "cell_type": "markdown",
   "metadata": {},
   "source": [
    "I am currently cleaning the dataset, which contains various values, including inconsistent spellings for the cases im trying to predict(e.g., \"Denied\" vs. \"Deny\"). Additionally, there are entries representing unsettled claims, such as \"-\", \"Insufficient,\" and \"In litigation.\""
   ]
  },
  {
   "cell_type": "code",
   "execution_count": null,
   "metadata": {},
   "outputs": [
    {
     "data": {
      "text/plain": [
       "Denied                                               68336\n",
       "Approved                                             34997\n",
       "Deny                                                 28237\n",
       "Settled                                              27955\n",
       "-                                                    12752\n",
       "Approve in Full                                      12364\n",
       "Canceled                                              6651\n",
       "Settle                                                5766\n",
       "Insufficient                                          4972\n",
       "Closed as a contractor claim                          1312\n",
       "In litigation                                          108\n",
       "In review                                                9\n",
       "Claim has been assigned for further investigation        1\n",
       "Pending response from claimant                           1\n",
       "Name: Status, dtype: int64"
      ]
     },
     "execution_count": 40,
     "metadata": {},
     "output_type": "execute_result"
    }
   ],
   "source": [
    "df.Status.str.split(\";\").map(lambda x: \"Null\" if type(x)==float else x[0]).value_counts()"
   ]
  },
  {
   "cell_type": "markdown",
   "metadata": {},
   "source": [
    "collapse the inconsistent spellings and remove the non-final statuses"
   ]
  },
  {
   "cell_type": "code",
   "execution_count": null,
   "metadata": {},
   "outputs": [
    {
     "name": "stdout",
     "output_type": "stream",
     "text": [
      "Denied      96573\n",
      "Approved    47361\n",
      "Settled     33721\n",
      "Name: Status, dtype: int64\n",
      "177655\n"
     ]
    },
    {
     "name": "stderr",
     "output_type": "stream",
     "text": [
      "c:\\Users\\ofent\\Documents\\New folder\\lib\\site-packages\\pandas\\core\\generic.py:6619: SettingWithCopyWarning: \n",
      "A value is trying to be set on a copy of a slice from a DataFrame\n",
      "\n",
      "See the caveats in the documentation: https://pandas.pydata.org/pandas-docs/stable/user_guide/indexing.html#returning-a-view-versus-a-copy\n",
      "  return self._update_inplace(result)\n"
     ]
    }
   ],
   "source": [
    "valid_targets = ['Denied','Approved','Deny','Settled','Approve in Full', 'Settle']\n",
    "\n",
    "df = df[df.Status.isin(valid_targets)]\n",
    "df.Status.replace(\"Approve in Full\",\"Approved\",inplace=True)\n",
    "df.Status.replace(\"Deny\",\"Denied\",inplace=True)\n",
    "df.Status.replace(\"Settle\",\"Settled\",inplace=True)\n",
    "\n",
    "print(df.Status.value_counts())\n",
    "print(len(df))"
   ]
  },
  {
   "cell_type": "markdown",
   "metadata": {},
   "source": [
    "The \"Date Received\" is formatted consistently, but some dates are incorrect. Since we only need records from 2002 to 2014, let's drop any that fall outside this range.\n",
    "\n"
   ]
  },
  {
   "cell_type": "code",
   "execution_count": null,
   "metadata": {},
   "outputs": [
    {
     "name": "stderr",
     "output_type": "stream",
     "text": [
      "c:\\Users\\ofent\\Documents\\New folder\\lib\\site-packages\\pandas\\util\\_decorators.py:311: SettingWithCopyWarning: \n",
      "A value is trying to be set on a copy of a slice from a DataFrame\n",
      "\n",
      "See the caveats in the documentation: https://pandas.pydata.org/pandas-docs/stable/user_guide/indexing.html#returning-a-view-versus-a-copy\n",
      "  return func(*args, **kwargs)\n",
      "C:\\Users\\ofent\\AppData\\Local\\Temp/ipykernel_13928/194089928.py:4: SettingWithCopyWarning: \n",
      "A value is trying to be set on a copy of a slice from a DataFrame.\n",
      "Try using .loc[row_indexer,col_indexer] = value instead\n",
      "\n",
      "See the caveats in the documentation: https://pandas.pydata.org/pandas-docs/stable/user_guide/indexing.html#returning-a-view-versus-a-copy\n",
      "  df[\"Date_Received\"] = pd.to_datetime(df.Date_Received_String,format=\"%d-%b-%y\")\n"
     ]
    },
    {
     "name": "stdout",
     "output_type": "stream",
     "text": [
      "2002      782\n",
      "2003    19367\n",
      "2004    26621\n",
      "2005    22494\n",
      "2006    17662\n",
      "2007    17383\n",
      "2008    15253\n",
      "2009    11598\n",
      "2010     9729\n",
      "2011     9795\n",
      "2012     8891\n",
      "2013     6233\n",
      "2014     5118\n",
      "Name: Date_Received, dtype: int64\n"
     ]
    }
   ],
   "source": [
    "df.dropna(subset=[\"Date_Received_String\"], inplace=True)\n",
    "\n",
    "df[\"Date_Received\"] = pd.to_datetime(df.Date_Received_String,format=\"%d-%b-%y\")\n",
    "\n",
    "df = df[df.Date_Received.dt.year.isin(range(2002,2014+1))]\n",
    "\n",
    "print(df.Date_Received.dt.year.value_counts().sort_index())"
   ]
  },
  {
   "cell_type": "markdown",
   "metadata": {},
   "source": [
    "There are inconsistencies in the \"Incident Date\" formats, with some as 20/jan/09 and others as 01/20/09. Let's create a function to standardize these formats for conversion to DateTime objects."
   ]
  },
  {
   "cell_type": "code",
   "execution_count": null,
   "metadata": {},
   "outputs": [],
   "source": [
    "month_dict = {\"jan\":1,\"feb\":2,\"mar\":3,\"apr\":4,\"may\":5,\"jun\":6,\"jul\":7,\"aug\":8,\"sep\":9,\"oct\":10,\"nov\":11,\"dec\":12}\n",
    "\n",
    "def format_dates(regex, date_string):\n",
    "    '''\n",
    "    Formats the date string from 2014 entries to be consistent with the rest of the doc \n",
    "    Inputs: \n",
    "        regex - compiled re with three groups corresponding to {day}/{month (abbrev.)}/{Year}\n",
    "        date_string - string to be formatted matching the regex\n",
    "    Outputs: \n",
    "        If regex match, return formatted string of form {Month}/{Day}/{Year}; else return original string\n",
    "    '''\n",
    "    m = regex.match(date_string)\n",
    "    if(m):\n",
    "        day, month, year = m.group(1,2,3)\n",
    "        return \"{}/{}/{}\".format(month_dict[month],day,\"20\"+year)\n",
    "    else:\n",
    "        return date_string"
   ]
  },
  {
   "cell_type": "markdown",
   "metadata": {},
   "source": [
    "The \"Incident Date\" contains both date and time, so we'll separate the time before formatting the dates. Unfortunately, many rows lack the time component, making that part unusable. There are also a few other inconsistencies to fix. After addressing these issues, we can apply the formatting function we created earlier."
   ]
  },
  {
   "cell_type": "code",
   "execution_count": null,
   "metadata": {},
   "outputs": [
    {
     "name": "stdout",
     "output_type": "stream",
     "text": [
      "2002     1631\n",
      "2003    21859\n",
      "2004    26166\n",
      "2005    21209\n",
      "2006    17436\n",
      "2007    17076\n",
      "2008    14776\n",
      "2009    10080\n",
      "2010    10879\n",
      "2011     9848\n",
      "2012     8755\n",
      "2013     5999\n",
      "2014     4293\n",
      "Name: Incident_Date, dtype: int64\n",
      "170007\n"
     ]
    }
   ],
   "source": [
    "df.dropna(subset=[\"Incident_Date_String\"], inplace=True)\n",
    "\n",
    "df.Incident_Date_String.replace(\"6/30/10\",\"06/30/2010 16:30\",inplace=True)\n",
    "\n",
    "df[\"Incident_Date_String\"] = df.Incident_Date_String.str.replace(\"-\",\"/\")\n",
    "df[\"Incident_Date_String\"] = df.Incident_Date_String.str.lower()\n",
    "\n",
    "df[\"Incident_Time\"] = df.Incident_Date_String.str.split(\" \").map(lambda x: x[-1])\n",
    "df[\"Incident_Date\"] = df.Incident_Date_String.str.split(\" \").map(lambda x: x[0])\n",
    "\n",
    "regex = re.compile(r\"/[a-z]{3}/[0-9]{4}\")\n",
    "df = df[df.Incident_Date.map(lambda x: not bool(regex.search(x)))].sort_values([\"Date_Received\"])\n",
    "\n",
    "regex = re.compile(r\"(\\d*)/([a-z]{3})/(1[1-4])$\")\n",
    "df[\"Incident_Date\"] = df.Incident_Date.map(lambda x: format_dates(regex,x) )\n",
    "\n",
    "df[\"Incident_Date\"] = pd.to_datetime(df.Incident_Date,format=\"%m/%d/%Y\")\n",
    "df = df[df.Incident_Date.dt.year.isin(range(2002,2014+1))]\n",
    "\n",
    "print(df.Incident_Date.dt.year.value_counts().sort_index())\n",
    "print(len(df))"
   ]
  },
  {
   "cell_type": "markdown",
   "metadata": {},
   "source": [
    "First, we see that some airport codes are linked to multiple distinct airport names, but this is due to excess whitespace. This issue is easy to fix."
   ]
  },
  {
   "cell_type": "code",
   "execution_count": null,
   "metadata": {},
   "outputs": [
    {
     "name": "stdout",
     "output_type": "stream",
     "text": [
      "Airport_Code\n",
      "BOS    [Boston (Logan) International Airport, Boston ...\n",
      "BUR                                [Bob Hope, Bob Hope ]\n",
      "DEN    [Denver International Airport, Denver Internat...\n",
      "DFW    [Dallas-Fort Worth International Airport, Dall...\n",
      "DUJ    [Dubois Jefferson County, Dubois Jefferson Cou...\n",
      "Name: Airport_Name, dtype: object\n",
      "\n",
      "---\n",
      "\n",
      "Series([], Name: Airport_Name, dtype: object)\n"
     ]
    }
   ],
   "source": [
    "temp = df.groupby(\"Airport_Code\").Airport_Name.nunique().sort_values(ascending=False)\n",
    "print(df[df.Airport_Code.isin(temp[temp>1].index)].groupby(\"Airport_Code\").Airport_Name.unique().head())\n",
    "print(\"\\n---\\n\")\n",
    "\n",
    "df[\"Airport_Code\"] = df.Airport_Code.str.strip()\n",
    "df[\"Airport_Name\"] = df.Airport_Name.str.strip()\n",
    "\n",
    "temp = df.groupby(\"Airport_Code\").Airport_Name.nunique().sort_values(ascending=False)\n",
    "print(df[df.Airport_Code.isin(temp[temp>1].index)].groupby(\"Airport_Code\").Airport_Name.unique().head())"
   ]
  },
  {
   "cell_type": "markdown",
   "metadata": {},
   "source": [
    "Next, I'm consolidating the airports that appear infrequently in the claims to simplify the dataset. I’ll group together those with fewer than 200 claims, which is about 0.01% of the total data."
   ]
  },
  {
   "cell_type": "code",
   "execution_count": null,
   "metadata": {},
   "outputs": [
    {
     "name": "stdout",
     "output_type": "stream",
     "text": [
      "Total: 450 airports, 170007 complaints\n",
      "Under 1000: 407 airports, 42960 complaints\n",
      "Under 900: 402 airports, 38199 complaints\n",
      "Under 800: 397 airports, 34015 complaints\n",
      "Under 700: 392 airports, 30339 complaints\n",
      "Under 600: 384 airports, 25052 complaints\n",
      "Under 500: 378 airports, 21592 complaints\n",
      "Under 400: 372 airports, 18959 complaints\n",
      "Under 300: 365 airports, 16513 complaints\n",
      "Under 200: 348 airports, 12258 complaints\n",
      "Under 100: 307 airports, 6642 complaints\n"
     ]
    }
   ],
   "source": [
    "temp = df.Airport_Code.value_counts()\n",
    "print(\"Total: {} airports, {} complaints\".format(temp.count(),temp.sum()))\n",
    "for num in range(1000,1,-100):\n",
    "    print(\"Under {}: {} airports, {} complaints\".format(num, temp[temp<num].count(),temp[temp<num].sum()))\n",
    "\n",
    "level = 200\n",
    "def set_other(row, keep_items):\n",
    "    if row.Airport_Code in keep_items:\n",
    "        row[\"Airport_Code_Group\"] = row.Airport_Code\n",
    "        row[\"Airport_Name_Group\"] = row.Airport_Name\n",
    "    else:\n",
    "        row[\"Airport_Code_Group\"] = 'Other'\n",
    "        row[\"Airport_Name_Group\"] = 'Other'\n",
    "    return row\n",
    "\n",
    "keep_set = set(temp[temp>=level].index)\n",
    "df = df.apply(lambda x: set_other(x,keep_set),axis=1)"
   ]
  },
  {
   "cell_type": "markdown",
   "metadata": {},
   "source": [
    "For airlines, let's consolidate names that seem to be subsidiary/parent or have inconsistent naming."
   ]
  },
  {
   "cell_type": "code",
   "execution_count": null,
   "metadata": {},
   "outputs": [
    {
     "name": "stdout",
     "output_type": "stream",
     "text": [
      "170007\n"
     ]
    }
   ],
   "source": [
    "df[\"Airline_Name\"] = df.Airline_Name.str.strip().str.replace(\" \",\"\")\n",
    "df.Airline_Name.replace(\"AmericanEagle\",\"AmericanAirlines\",inplace=True)\n",
    "df.Airline_Name.replace(\"AmericanWest\",\"AmericaWest\",inplace=True)\n",
    "df.Airline_Name.replace(\"AirTranAirlines(donotuse)\",\"AirTranAirlines\",inplace=True)\n",
    "df.Airline_Name.replace(\"AeroflotRussianInternational\",\"AeroFlot\",inplace=True)\n",
    "df.Airline_Name.replace(\"ContinentalExpressInc\",\"ContinentalAirlines\",inplace=True)\n",
    "df.Airline_Name.replace(\"Delta(Song)\",\"DeltaAirLines\",inplace=True)\n",
    "df.Airline_Name.replace(\"FrontierAviationInc\",\"FrontierAirlines\",inplace=True)\n",
    "df.Airline_Name.replace(\"NorthwestInternationalAirwaysLtd\",\"NorthwestAirlines\",inplace=True)\n",
    "df.Airline_Name.replace(\"SkywestAirlinesAustralia\",\"SkywestAirlinesIncUSA\",inplace=True)\n",
    "\n",
    "df.Airline_Name.value_counts().head(10)\n",
    "print(len(df))"
   ]
  },
  {
   "cell_type": "markdown",
   "metadata": {},
   "source": [
    "1. What is the most common type of insurance claim?"
   ]
  },
  {
   "cell_type": "code",
   "execution_count": null,
   "metadata": {},
   "outputs": [
    {
     "name": "stdout",
     "output_type": "stream",
     "text": [
      "Passenger Property Loss    98472\n",
      "Property Damage            64163\n",
      "-                           5384\n",
      "Personal Injury              884\n",
      "Passenger Theft              429\n",
      "Employee Loss (MPCECA)       427\n",
      "Motor Vehicle                238\n",
      "Complaint                      6\n",
      "Wrongful Death                 3\n",
      "Bus Terminal                   1\n",
      "Name: Claim_Type, dtype: int64\n",
      "Checked Baggage    135738\n",
      "Checkpoint          32628\n",
      "Other                1037\n",
      "-                     308\n",
      "Motor Vehicle         286\n",
      "Bus Station            10\n",
      "Name: Claim_Site, dtype: int64\n"
     ]
    }
   ],
   "source": [
    "print(df.Claim_Type.value_counts())\n",
    "print(df.Claim_Site.value_counts())"
   ]
  },
  {
   "cell_type": "code",
   "execution_count": null,
   "metadata": {},
   "outputs": [
    {
     "data": {
      "image/png": "[encoded data removed]",
      "text/plain": [
       "<Figure size 720x432 with 1 Axes>"
      ]
     },
     "metadata": {
      "needs_background": "light"
     },
     "output_type": "display_data"
    }
   ],
   "source": [
    "plt.figure(figsize=(10, 6))\n",
    "sns.barplot(x=df['Claim_Type'].value_counts().index, y=df['Claim_Type'].value_counts().values)\n",
    "plt.title('Distribution of Claim Types')\n",
    "plt.xticks(rotation=90)\n",
    "plt.ylabel('Number of Claims')\n",
    "plt.xlabel('Claim Type')\n",
    "plt.show()\n",
    "\n",
    "\n"
   ]
  },
  {
   "cell_type": "markdown",
   "metadata": {},
   "source": [
    "2. Which claim site within the airport are claims most commonly filed for?"
   ]
  },
  {
   "cell_type": "code",
   "execution_count": null,
   "metadata": {},
   "outputs": [
    {
     "data": {
      "image/png": "[encoded data removed]",
      "text/plain": [
       "<Figure size 720x432 with 1 Axes>"
      ]
     },
     "metadata": {
      "needs_background": "light"
     },
     "output_type": "display_data"
    }
   ],
   "source": [
    "plt.figure(figsize=(10, 6))\n",
    "sns.barplot(x=df['Claim_Site'].value_counts().index, y=df['Claim_Site'].value_counts().values)\n",
    "plt.title('Distribution of Claim Sites')\n",
    "plt.xticks(rotation=90)\n",
    "plt.ylabel('Number of Claims')\n",
    "plt.xlabel('Claim Site')\n",
    "plt.show()"
   ]
  },
  {
   "cell_type": "markdown",
   "metadata": {},
   "source": [
    "3. What type of claim is made most at each claim site?"
   ]
  },
  {
   "cell_type": "code",
   "execution_count": null,
   "metadata": {},
   "outputs": [
    {
     "name": "stdout",
     "output_type": "stream",
     "text": [
      "         Claim_Site               Claim_Type  counts\n",
      "2                 -  Passenger Property Loss     120\n",
      "7       Bus Station          Property Damage       6\n",
      "13  Checked Baggage  Passenger Property Loss   84125\n",
      "24       Checkpoint          Property Damage   17201\n",
      "27    Motor Vehicle            Motor Vehicle     209\n",
      "38            Other          Property Damage     331\n"
     ]
    }
   ],
   "source": [
    "claim_counts = df.groupby(['Claim_Site', 'Claim_Type']).size().reset_index(name='counts')\n",
    "\n",
    "most_common_claims = claim_counts.loc[claim_counts.groupby('Claim_Site')['counts'].idxmax()]\n",
    "\n",
    "print(most_common_claims)\n"
   ]
  },
  {
   "cell_type": "code",
   "execution_count": null,
   "metadata": {},
   "outputs": [
    {
     "data": {
      "image/png": "[encoded data removed]",
      "text/plain": [
       "<Figure size 720x432 with 1 Axes>"
      ]
     },
     "metadata": {
      "needs_background": "light"
     },
     "output_type": "display_data"
    }
   ],
   "source": [
    "claim_counts = df.groupby(['Claim_Site', 'Claim_Type']).size().reset_index(name='counts')\n",
    "\n",
    "most_common_claims = claim_counts.loc[claim_counts.groupby('Claim_Site')['counts'].idxmax()]\n",
    "\n",
    "plt.figure(figsize=(10, 6))\n",
    "sns.barplot(data=most_common_claims, x='Claim_Site', y='counts', hue='Claim_Type', dodge=False)\n",
    "plt.title('Most Common Claim Type at Each Claim Site')\n",
    "plt.ylabel('Number of Claims')\n",
    "plt.xticks(rotation=45, ha='right')\n",
    "plt.tight_layout()\n",
    "\n",
    "plt.show()"
   ]
  },
  {
   "cell_type": "markdown",
   "metadata": {},
   "source": [
    "4. What is the typical claim amount?"
   ]
  },
  {
   "cell_type": "markdown",
   "metadata": {},
   "source": [
    "I cleaned the Claim_Amount column by removing characters like ;, $, and -, then converted it to numeric values. I used pd.to_numeric() with errors=\"coerce\" to handle any invalid values by turning them into NaN. After that, I switched from sns.distplot() to sns.histplot() for plotting, since distplot is deprecated. Lastly, I made a copy of the dataframe to keep the original data intact for later use"
   ]
  },
  {
   "cell_type": "code",
   "execution_count": 6,
   "metadata": {},
   "outputs": [
    {
     "name": "stderr",
     "output_type": "stream",
     "text": [
      "C:\\Users\\ofent\\AppData\\Local\\Temp/ipykernel_12020/1290776825.py:2: FutureWarning: The default value of regex will change from True to False in a future version. In addition, single character regular expressions will *not* be treated as literal strings when regex=True.\n",
      "  df[\"Claim_Amount\"] = df.Claim_Amount.str.replace(\"[;$-]\", \"\", regex=True).str.replace(\"$\", \"\").str.replace(\"-\", \"0\")\n"
     ]
    },
    {
     "name": "stdout",
     "output_type": "stream",
     "text": [
      "count    1.874720e+05\n",
      "mean     1.609638e+07\n",
      "std      6.928745e+09\n",
      "min      0.000000e+00\n",
      "25%      2.665000e+01\n",
      "50%      1.150000e+02\n",
      "75%      3.500000e+02\n",
      "max      3.000000e+12\n",
      "Name: Claim_Value, dtype: float64\n",
      "Denied                                                                                                                           68339\n",
      "Approved                                                                                                                         34999\n",
      "Deny                                                                                                                             28237\n",
      "Settled                                                                                                                          27958\n",
      "-                                                                                                                                12752\n",
      "Approve in Full                                                                                                                  12364\n",
      "Canceled                                                                                                                          7018\n",
      "Settle                                                                                                                            5766\n",
      "Insufficient; one of the following items required: sum certain; statement of fact; signature; location of incident; and date.     5381\n",
      "Closed as a contractor claim                                                                                                      1315\n",
      "In litigation                                                                                                                      108\n",
      "Claim entered                                                                                                                       14\n",
      "In review                                                                                                                            9\n",
      "Claim has been assigned for further investigation                                                                                    1\n",
      "Pending response from claimant                                                                                                       1\n",
      "Name: Status, dtype: int64\n",
      "204267\n"
     ]
    },
    {
     "data": {
      "text/plain": [
       "Denied                                                                                                                           55160\n",
       "Approved                                                                                                                         34084\n",
       "Settled                                                                                                                          24674\n",
       "Approve in Full                                                                                                                  12096\n",
       "Settle                                                                                                                            5448\n",
       "Canceled                                                                                                                          4759\n",
       "Insufficient; one of the following items required: sum certain; statement of fact; signature; location of incident; and date.     2878\n",
       "Closed as a contractor claim                                                                                                      1027\n",
       "In litigation                                                                                                                       15\n",
       "In review                                                                                                                            2\n",
       "Name: Status, dtype: int64"
      ]
     },
     "execution_count": 6,
     "metadata": {},
     "output_type": "execute_result"
    },
    {
     "data": {
      "image/png": "[encoded data removed]",
      "text/plain": [
       "<Figure size 432x288 with 1 Axes>"
      ]
     },
     "metadata": {
      "needs_background": "light"
     },
     "output_type": "display_data"
    }
   ],
   "source": [
    "df[\"Claim_Amount\"] = df.Claim_Amount.str.strip()\n",
    "df[\"Claim_Amount\"] = df.Claim_Amount.str.replace(\"[;$-]\", \"\", regex=True).str.replace(\"$\", \"\").str.replace(\"-\", \"0\")\n",
    "\n",
    "df[\"Claim_Value\"] = pd.to_numeric(df[\"Claim_Amount\"], errors=\"coerce\")\n",
    "\n",
    "df_copy = df.copy()\n",
    "\n",
    "print(df.Claim_Value.describe())\n",
    "print(df.Status.value_counts())\n",
    "print(len(df)) \n",
    "\n",
    "sns.histplot(df.Claim_Value[(df.Claim_Value > 0) & (df.Claim_Value < 5000)], kde=True)\n",
    "\n",
    "df.Status[(df.Claim_Value > 0) & (df.Claim_Value < 1000)].value_counts()\n"
   ]
  },
  {
   "cell_type": "code",
   "execution_count": null,
   "metadata": {},
   "outputs": [
    {
     "name": "stderr",
     "output_type": "stream",
     "text": [
      "c:\\Users\\ofent\\Documents\\New folder\\lib\\site-packages\\seaborn\\categorical.py:3717: UserWarning: The `factorplot` function has been renamed to `catplot`. The original name will be removed in a future release. Please update your code. Note that the default `kind` in `factorplot` (`'point'`) has changed `'strip'` in `catplot`.\n",
      "  warnings.warn(msg)\n",
      "c:\\Users\\ofent\\Documents\\New folder\\lib\\site-packages\\seaborn\\categorical.py:3723: UserWarning: The `size` parameter has been renamed to `height`; please update your code.\n",
      "  warnings.warn(msg, UserWarning)\n"
     ]
    },
    {
     "data": {
      "text/plain": [
       "<seaborn.axisgrid.FacetGrid at 0x291e61a1370>"
      ]
     },
     "execution_count": 54,
     "metadata": {},
     "output_type": "execute_result"
    },
    {
     "data": {
      "image/png": "[encoded data removed]",
      "text/plain": [
       "<Figure size 803.625x720 with 1 Axes>"
      ]
     },
     "metadata": {
      "needs_background": "light"
     },
     "output_type": "display_data"
    }
   ],
   "source": [
    "bins = [round(10**x) for x in (list(np.arange(0,4.1,.4))+[10])]\n",
    "\n",
    "bottom = -1\n",
    "\n",
    "data = []\n",
    "\n",
    "for x,top in enumerate(bins):\n",
    "    counts = df.Status[(df.Claim_Value>bottom)&(df.Claim_Value<=top)].value_counts()\n",
    "    for i in range(len(counts)):\n",
    "        data.append({\"bin\":(str(x)+\":\"+str(top)),\"label\":counts.index[i],\"count\":counts[i]})\n",
    "    bottom = top\n",
    "\n",
    "counts_df = pd.DataFrame(data)\n",
    "\n",
    "sns.factorplot(x=\"bin\",y=\"count\",hue=\"label\",data=counts_df,kind=\"bar\",size=10)"
   ]
  },
  {
   "cell_type": "markdown",
   "metadata": {},
   "source": [
    "5. What is the overall claim approval rate for the entire U.S.?"
   ]
  },
  {
   "cell_type": "markdown",
   "metadata": {},
   "source": [
    "I coded this analysis to keep it clear and efficient. I used pandas for its powerful data handling capabilities, specifically the value_counts() function to quickly summarize the claim statuses. For visualization, I chose matplotlib to create a bar chart, as it effectively highlights the comparison between approved (green) and denied (red) claims.\n",
    "\n",
    "By customizing the colors, I aimed to make the information instantly recognizable. This setup not only allows me to present the overall claim approval rate but also provides a solid foundation for further analysis, like breaking down the data by year or claim type. Overall, my approach balances clarity, efficiency, and flexibility for deeper insights later on."
   ]
  },
  {
   "cell_type": "code",
   "execution_count": null,
   "metadata": {},
   "outputs": [
    {
     "name": "stdout",
     "output_type": "stream",
     "text": [
      "Overall Claim Approval Rate: 26.53%\n"
     ]
    }
   ],
   "source": [
    "approved_claims = df[df.Status.str.contains(\"Approved\", case=False, na=False)].shape[0]\n",
    "\n",
    "total_claims = len(df)\n",
    "\n",
    "approval_rate = (approved_claims / total_claims) * 100\n",
    "\n",
    "print(f\"Overall Claim Approval Rate: {approval_rate:.2f}%\")\n"
   ]
  },
  {
   "cell_type": "code",
   "execution_count": 7,
   "metadata": {},
   "outputs": [
    {
     "name": "stdout",
     "output_type": "stream",
     "text": [
      "Typical claim amount for claims under $5,000: 110.0\n"
     ]
    }
   ],
   "source": [
    "# Filter Claim_Value for claims less than 5000\n",
    "filtered_claims = df[df[\"Claim_Value\"] < 5000]\n",
    "\n",
    "# Calculate the median\n",
    "typical_claim = filtered_claims[\"Claim_Value\"].median()\n",
    "print(\"Typical claim amount for claims under $5,000:\", typical_claim)\n"
   ]
  },
  {
   "cell_type": "code",
   "execution_count": null,
   "metadata": {},
   "outputs": [
    {
     "data": {
      "image/png": "[encoded data removed]",
      "text/plain": [
       "<Figure size 576x360 with 1 Axes>"
      ]
     },
     "metadata": {
      "needs_background": "light"
     },
     "output_type": "display_data"
    }
   ],
   "source": [
    "status_counts = df.Status.value_counts()\n",
    "\n",
    "plt.figure(figsize=(8, 5))\n",
    "status_counts.plot(kind='bar', color=['green', 'red'])\n",
    "plt.title('Claim Status Counts')\n",
    "plt.xlabel('Claim Status')\n",
    "plt.ylabel('Number of Claims')\n",
    "plt.xticks(rotation=45)\n",
    "plt.grid(axis='y')\n",
    "\n",
    "# Show the plot\n",
    "plt.show()\n"
   ]
  },
  {
   "cell_type": "markdown",
   "metadata": {},
   "source": [
    "6. If a claim is approved or settled, what percent of the claim amount do the airports pay?"
   ]
  },
  {
   "cell_type": "markdown",
   "metadata": {},
   "source": [
    "I cleaned the Close_Amount column by removing unwanted characters and replacing dashes with 0 for numerical consistency. Then, I focused on \"Approved\" or \"Settled\" claims to analyze the amounts paid by airports. I calculated the total claim amounts and payments, determining the percentage paid. Finally, I created a bar plot to visualize the payments, making it easy to see the financial impact of the claims."
   ]
  },
  {
   "cell_type": "code",
   "execution_count": null,
   "metadata": {},
   "outputs": [
    {
     "name": "stderr",
     "output_type": "stream",
     "text": [
      "C:\\Users\\ofent\\AppData\\Local\\Temp/ipykernel_13928/1913438613.py:2: FutureWarning: The default value of regex will change from True to False in a future version. In addition, single character regular expressions will *not* be treated as literal strings when regex=True.\n",
      "  df['Close_Amount'] = df['Close_Amount'].str.replace(';', '').str.replace('$', '').str.replace('-', '0')  # Clean formatting\n"
     ]
    },
    {
     "data": {
      "image/png": "[encoded data removed]",
      "text/plain": [
       "<Figure size 576x432 with 1 Axes>"
      ]
     },
     "metadata": {
      "needs_background": "light"
     },
     "output_type": "display_data"
    }
   ],
   "source": [
    "df['Close_Amount'] = df['Close_Amount'].str.strip()  # Remove any leading/trailing spaces\n",
    "df['Close_Amount'] = df['Close_Amount'].str.replace(';', '').str.replace('$', '').str.replace('-', '0')  # Clean formatting\n",
    "df['Close_Amount'] = df['Close_Amount'].astype(float)  # Convert to float\n",
    "\n",
    "approved_settled_claims = df[df['Status'].isin(['Approved', 'Settled'])]\n",
    "\n",
    "total_claim_amount = approved_settled_claims['Claim_Value'].sum()\n",
    "total_amount_paid = approved_settled_claims['Close_Amount'].sum()\n",
    "\n",
    "percentage_paid = (total_amount_paid / total_claim_amount) * 100 if total_claim_amount > 0 else 0\n",
    "\n",
    "labels = ['Amount Paid by Airports', 'Amount Not Paid']\n",
    "sizes = [total_amount_paid, total_claim_amount - total_amount_paid]\n",
    "\n",
    "plt.figure(figsize=(8, 6))\n",
    "plt.bar(labels, sizes, color=['#4CAF50', '#FF5733'])\n",
    "plt.title(f'Claim Amount Paid by Airports\\nPercentage: {percentage_paid:.2f}%', fontsize=16)\n",
    "plt.ylabel('Amount ($)', fontsize=14)\n",
    "plt.xlabel('Payment Status', fontsize=14)\n",
    "plt.xticks(rotation=45)\n",
    "plt.grid(axis='y')\n",
    "\n",
    "for i, v in enumerate(sizes):\n",
    "    plt.text(i, v + 5000, f\"${v:,.0f}\", ha='center', fontweight='bold')\n",
    "\n",
    "plt.tight_layout()\n",
    "plt.show()\n"
   ]
  },
  {
   "cell_type": "markdown",
   "metadata": {},
   "source": [
    "7. What are the five airports with the most claims?"
   ]
  },
  {
   "cell_type": "markdown",
   "metadata": {},
   "source": [
    "I counted the claims for each airport using value_counts() and selected the top five. I used a horizontal bar plot for easy readability of the airport names and claim numbers. Seaborn's barplot() function helped create a visually appealing plot, and I set a larger figure size to avoid clutter. The title and axis labels provide clear context for what the data represents"
   ]
  },
  {
   "cell_type": "code",
   "execution_count": null,
   "metadata": {},
   "outputs": [
    {
     "data": {
      "image/png": "[encoded data removed]",
      "text/plain": [
       "<Figure size 720x432 with 1 Axes>"
      ]
     },
     "metadata": {
      "needs_background": "light"
     },
     "output_type": "display_data"
    }
   ],
   "source": [
    "top_airports = df['Airport_Name'].value_counts().head(5)\n",
    "\n",
    "plt.figure(figsize=(10, 6))\n",
    "sns.barplot(x=top_airports.values, y=top_airports.index, palette='viridis')\n",
    "plt.title('Top 5 Airports with the Most Claims')\n",
    "plt.xlabel('Number of Claims')\n",
    "plt.ylabel('Airport Name')\n",
    "plt.show()\n"
   ]
  },
  {
   "cell_type": "markdown",
   "metadata": {},
   "source": [
    "8. Has the total close amount increased or decreased over time?\n"
   ]
  },
  {
   "cell_type": "markdown",
   "metadata": {},
   "source": [
    "I wrote this code to group the claims by year and sum the Close_Amount for each year, allowing me to track changes over time. The line plot helps me see if the total close amount has increased or decreased across the years. By extracting the year from the Date_Received column, I made sure the data is aggregated correctly for meaningful insights. I added markers to highlight individual data points and included a grid for better readability"
   ]
  },
  {
   "cell_type": "code",
   "execution_count": null,
   "metadata": {},
   "outputs": [
    {
     "data": {
      "image/png": "[encoded data removed]",
      "text/plain": [
       "<Figure size 864x432 with 1 Axes>"
      ]
     },
     "metadata": {
      "needs_background": "light"
     },
     "output_type": "display_data"
    }
   ],
   "source": [
    "df['Year'] = df['Date_Received'].dt.year  \n",
    "total_close_amount_per_year = df.groupby('Year')['Close_Amount'].sum()\n",
    "\n",
    "plt.figure(figsize=(12, 6))\n",
    "total_close_amount_per_year.plot(kind='line', marker='o')\n",
    "plt.title('Total Close Amount Over Time')\n",
    "plt.xlabel('Year')\n",
    "plt.ylabel('Total Close Amount')\n",
    "plt.xticks(total_close_amount_per_year.index, rotation=45)\n",
    "plt.grid()\n",
    "plt.show()\n"
   ]
  },
  {
   "cell_type": "markdown",
   "metadata": {},
   "source": [
    "Reading the csv file "
   ]
  },
  {
   "cell_type": "code",
   "execution_count": null,
   "metadata": {},
   "outputs": [
    {
     "data": {
      "text/html": [
       "<div>\n",
       "<style scoped>\n",
       "    .dataframe tbody tr th:only-of-type {\n",
       "        vertical-align: middle;\n",
       "    }\n",
       "\n",
       "    .dataframe tbody tr th {\n",
       "        vertical-align: top;\n",
       "    }\n",
       "\n",
       "    .dataframe thead th {\n",
       "        text-align: right;\n",
       "    }\n",
       "</style>\n",
       "<table border=\"1\" class=\"dataframe\">\n",
       "  <thead>\n",
       "    <tr style=\"text-align: right;\">\n",
       "      <th></th>\n",
       "      <th>ICAOCode</th>\n",
       "      <th>IATACode</th>\n",
       "      <th>AirportName</th>\n",
       "      <th>City</th>\n",
       "      <th>Country</th>\n",
       "      <th>LatitudeDegrees</th>\n",
       "      <th>LatitudeMinutes</th>\n",
       "      <th>LatitudeSeconds</th>\n",
       "      <th>LatitudeDir</th>\n",
       "      <th>LongitudeDegrees</th>\n",
       "      <th>LongitudeMinutes</th>\n",
       "      <th>LongitudeSeconds</th>\n",
       "      <th>LongitudeDirection</th>\n",
       "      <th>Altitude</th>\n",
       "      <th>LatitudeDecimalDegrees</th>\n",
       "      <th>LongitudeDecimalDegrees</th>\n",
       "    </tr>\n",
       "  </thead>\n",
       "  <tbody>\n",
       "    <tr>\n",
       "      <th>0</th>\n",
       "      <td>AYGA</td>\n",
       "      <td>GKA</td>\n",
       "      <td>GOROKA</td>\n",
       "      <td>GOROKA</td>\n",
       "      <td>PAPUA NEW GUINEA</td>\n",
       "      <td>6</td>\n",
       "      <td>4</td>\n",
       "      <td>54</td>\n",
       "      <td>S</td>\n",
       "      <td>145</td>\n",
       "      <td>23</td>\n",
       "      <td>30</td>\n",
       "      <td>E</td>\n",
       "      <td>1610</td>\n",
       "      <td>-6.082</td>\n",
       "      <td>145.392</td>\n",
       "    </tr>\n",
       "    <tr>\n",
       "      <th>1</th>\n",
       "      <td>AYLA</td>\n",
       "      <td>LAE</td>\n",
       "      <td>NaN</td>\n",
       "      <td>LAE</td>\n",
       "      <td>PAPUA NEW GUINEA</td>\n",
       "      <td>0</td>\n",
       "      <td>0</td>\n",
       "      <td>0</td>\n",
       "      <td>U</td>\n",
       "      <td>0</td>\n",
       "      <td>0</td>\n",
       "      <td>0</td>\n",
       "      <td>U</td>\n",
       "      <td>0</td>\n",
       "      <td>0.000</td>\n",
       "      <td>0.000</td>\n",
       "    </tr>\n",
       "    <tr>\n",
       "      <th>2</th>\n",
       "      <td>AYMD</td>\n",
       "      <td>MAG</td>\n",
       "      <td>MADANG</td>\n",
       "      <td>MADANG</td>\n",
       "      <td>PAPUA NEW GUINEA</td>\n",
       "      <td>5</td>\n",
       "      <td>12</td>\n",
       "      <td>25</td>\n",
       "      <td>S</td>\n",
       "      <td>145</td>\n",
       "      <td>47</td>\n",
       "      <td>19</td>\n",
       "      <td>E</td>\n",
       "      <td>7</td>\n",
       "      <td>-5.207</td>\n",
       "      <td>145.789</td>\n",
       "    </tr>\n",
       "    <tr>\n",
       "      <th>3</th>\n",
       "      <td>AYMH</td>\n",
       "      <td>HGU</td>\n",
       "      <td>MOUNT HAGEN</td>\n",
       "      <td>MOUNT HAGEN</td>\n",
       "      <td>PAPUA NEW GUINEA</td>\n",
       "      <td>5</td>\n",
       "      <td>49</td>\n",
       "      <td>34</td>\n",
       "      <td>S</td>\n",
       "      <td>144</td>\n",
       "      <td>17</td>\n",
       "      <td>46</td>\n",
       "      <td>E</td>\n",
       "      <td>1643</td>\n",
       "      <td>-5.826</td>\n",
       "      <td>144.296</td>\n",
       "    </tr>\n",
       "    <tr>\n",
       "      <th>4</th>\n",
       "      <td>AYNZ</td>\n",
       "      <td>LAE</td>\n",
       "      <td>NADZAB</td>\n",
       "      <td>NADZAB</td>\n",
       "      <td>PAPUA NEW GUINEA</td>\n",
       "      <td>6</td>\n",
       "      <td>34</td>\n",
       "      <td>11</td>\n",
       "      <td>S</td>\n",
       "      <td>146</td>\n",
       "      <td>43</td>\n",
       "      <td>34</td>\n",
       "      <td>E</td>\n",
       "      <td>73</td>\n",
       "      <td>-6.570</td>\n",
       "      <td>146.726</td>\n",
       "    </tr>\n",
       "    <tr>\n",
       "      <th>...</th>\n",
       "      <td>...</td>\n",
       "      <td>...</td>\n",
       "      <td>...</td>\n",
       "      <td>...</td>\n",
       "      <td>...</td>\n",
       "      <td>...</td>\n",
       "      <td>...</td>\n",
       "      <td>...</td>\n",
       "      <td>...</td>\n",
       "      <td>...</td>\n",
       "      <td>...</td>\n",
       "      <td>...</td>\n",
       "      <td>...</td>\n",
       "      <td>...</td>\n",
       "      <td>...</td>\n",
       "      <td>...</td>\n",
       "    </tr>\n",
       "    <tr>\n",
       "      <th>9295</th>\n",
       "      <td>ZYTK</td>\n",
       "      <td>NaN</td>\n",
       "      <td>NaN</td>\n",
       "      <td>SHENYANG</td>\n",
       "      <td>CHINA</td>\n",
       "      <td>0</td>\n",
       "      <td>0</td>\n",
       "      <td>0</td>\n",
       "      <td>U</td>\n",
       "      <td>0</td>\n",
       "      <td>0</td>\n",
       "      <td>0</td>\n",
       "      <td>U</td>\n",
       "      <td>0</td>\n",
       "      <td>0.000</td>\n",
       "      <td>0.000</td>\n",
       "    </tr>\n",
       "    <tr>\n",
       "      <th>9296</th>\n",
       "      <td>ZYTL</td>\n",
       "      <td>DLC</td>\n",
       "      <td>ZHOUSHUIZI</td>\n",
       "      <td>DALIAN</td>\n",
       "      <td>CHINA</td>\n",
       "      <td>38</td>\n",
       "      <td>57</td>\n",
       "      <td>56</td>\n",
       "      <td>N</td>\n",
       "      <td>121</td>\n",
       "      <td>32</td>\n",
       "      <td>18</td>\n",
       "      <td>E</td>\n",
       "      <td>33</td>\n",
       "      <td>38.966</td>\n",
       "      <td>121.538</td>\n",
       "    </tr>\n",
       "    <tr>\n",
       "      <th>9297</th>\n",
       "      <td>ZYXC</td>\n",
       "      <td>NaN</td>\n",
       "      <td>NaN</td>\n",
       "      <td>XIANCHENG</td>\n",
       "      <td>CHINA</td>\n",
       "      <td>0</td>\n",
       "      <td>0</td>\n",
       "      <td>0</td>\n",
       "      <td>U</td>\n",
       "      <td>0</td>\n",
       "      <td>0</td>\n",
       "      <td>0</td>\n",
       "      <td>U</td>\n",
       "      <td>0</td>\n",
       "      <td>0.000</td>\n",
       "      <td>0.000</td>\n",
       "    </tr>\n",
       "    <tr>\n",
       "      <th>9298</th>\n",
       "      <td>ZYYC</td>\n",
       "      <td>NaN</td>\n",
       "      <td>NaN</td>\n",
       "      <td>YICHUN</td>\n",
       "      <td>CHINA</td>\n",
       "      <td>0</td>\n",
       "      <td>0</td>\n",
       "      <td>0</td>\n",
       "      <td>U</td>\n",
       "      <td>0</td>\n",
       "      <td>0</td>\n",
       "      <td>0</td>\n",
       "      <td>U</td>\n",
       "      <td>0</td>\n",
       "      <td>0.000</td>\n",
       "      <td>0.000</td>\n",
       "    </tr>\n",
       "    <tr>\n",
       "      <th>9299</th>\n",
       "      <td>ZYYJ</td>\n",
       "      <td>NaN</td>\n",
       "      <td>YANJI</td>\n",
       "      <td>YANJI</td>\n",
       "      <td>CHINA</td>\n",
       "      <td>42</td>\n",
       "      <td>52</td>\n",
       "      <td>54</td>\n",
       "      <td>N</td>\n",
       "      <td>129</td>\n",
       "      <td>26</td>\n",
       "      <td>54</td>\n",
       "      <td>E</td>\n",
       "      <td>191</td>\n",
       "      <td>42.882</td>\n",
       "      <td>129.448</td>\n",
       "    </tr>\n",
       "  </tbody>\n",
       "</table>\n",
       "<p>9300 rows × 16 columns</p>\n",
       "</div>"
      ],
      "text/plain": [
       "     ICAOCode IATACode  AirportName         City           Country  \\\n",
       "0        AYGA      GKA       GOROKA       GOROKA  PAPUA NEW GUINEA   \n",
       "1        AYLA      LAE          NaN          LAE  PAPUA NEW GUINEA   \n",
       "2        AYMD      MAG       MADANG       MADANG  PAPUA NEW GUINEA   \n",
       "3        AYMH      HGU  MOUNT HAGEN  MOUNT HAGEN  PAPUA NEW GUINEA   \n",
       "4        AYNZ      LAE       NADZAB       NADZAB  PAPUA NEW GUINEA   \n",
       "...       ...      ...          ...          ...               ...   \n",
       "9295     ZYTK      NaN          NaN     SHENYANG             CHINA   \n",
       "9296     ZYTL      DLC   ZHOUSHUIZI       DALIAN             CHINA   \n",
       "9297     ZYXC      NaN          NaN    XIANCHENG             CHINA   \n",
       "9298     ZYYC      NaN          NaN       YICHUN             CHINA   \n",
       "9299     ZYYJ      NaN        YANJI        YANJI             CHINA   \n",
       "\n",
       "      LatitudeDegrees  LatitudeMinutes  LatitudeSeconds LatitudeDir  \\\n",
       "0                   6                4               54           S   \n",
       "1                   0                0                0           U   \n",
       "2                   5               12               25           S   \n",
       "3                   5               49               34           S   \n",
       "4                   6               34               11           S   \n",
       "...               ...              ...              ...         ...   \n",
       "9295                0                0                0           U   \n",
       "9296               38               57               56           N   \n",
       "9297                0                0                0           U   \n",
       "9298                0                0                0           U   \n",
       "9299               42               52               54           N   \n",
       "\n",
       "      LongitudeDegrees  LongitudeMinutes  LongitudeSeconds LongitudeDirection  \\\n",
       "0                  145                23                30                  E   \n",
       "1                    0                 0                 0                  U   \n",
       "2                  145                47                19                  E   \n",
       "3                  144                17                46                  E   \n",
       "4                  146                43                34                  E   \n",
       "...                ...               ...               ...                ...   \n",
       "9295                 0                 0                 0                  U   \n",
       "9296               121                32                18                  E   \n",
       "9297                 0                 0                 0                  U   \n",
       "9298                 0                 0                 0                  U   \n",
       "9299               129                26                54                  E   \n",
       "\n",
       "      Altitude  LatitudeDecimalDegrees  LongitudeDecimalDegrees  \n",
       "0         1610                  -6.082                  145.392  \n",
       "1            0                   0.000                    0.000  \n",
       "2            7                  -5.207                  145.789  \n",
       "3         1643                  -5.826                  144.296  \n",
       "4           73                  -6.570                  146.726  \n",
       "...        ...                     ...                      ...  \n",
       "9295         0                   0.000                    0.000  \n",
       "9296        33                  38.966                  121.538  \n",
       "9297         0                   0.000                    0.000  \n",
       "9298         0                   0.000                    0.000  \n",
       "9299       191                  42.882                  129.448  \n",
       "\n",
       "[9300 rows x 16 columns]"
      ]
     },
     "execution_count": 6,
     "metadata": {},
     "output_type": "execute_result"
    }
   ],
   "source": [
    "globalAirport = pd.read_csv(\"GlobalAirportDatabase.csv\")\n",
    "globalAirport"
   ]
  },
  {
   "cell_type": "markdown",
   "metadata": {},
   "source": [
    "Cleaning Data"
   ]
  },
  {
   "cell_type": "code",
   "execution_count": null,
   "metadata": {},
   "outputs": [
    {
     "name": "stdout",
     "output_type": "stream",
     "text": [
      "<class 'pandas.core.frame.DataFrame'>\n",
      "RangeIndex: 9300 entries, 0 to 9299\n",
      "Data columns (total 16 columns):\n",
      " #   Column                   Non-Null Count  Dtype  \n",
      "---  ------                   --------------  -----  \n",
      " 0   ICAOCode                 9300 non-null   object \n",
      " 1   IATACode                 3562 non-null   object \n",
      " 2   AirportName              4195 non-null   object \n",
      " 3   City                     9300 non-null   object \n",
      " 4   Country                  9300 non-null   object \n",
      " 5   LatitudeDegrees          9300 non-null   int64  \n",
      " 6   LatitudeMinutes          9300 non-null   int64  \n",
      " 7   LatitudeSeconds          9300 non-null   int64  \n",
      " 8   LatitudeDir              9300 non-null   object \n",
      " 9   LongitudeDegrees         9300 non-null   int64  \n",
      " 10  LongitudeMinutes         9300 non-null   int64  \n",
      " 11  LongitudeSeconds         9300 non-null   int64  \n",
      " 12  LongitudeDirection       9300 non-null   object \n",
      " 13  Altitude                 9300 non-null   int64  \n",
      " 14  LatitudeDecimalDegrees   9300 non-null   float64\n",
      " 15  LongitudeDecimalDegrees  9300 non-null   float64\n",
      "dtypes: float64(2), int64(7), object(7)\n",
      "memory usage: 1.1+ MB\n",
      "None\n"
     ]
    }
   ],
   "source": [
    "\n",
    "print(globalAirport.info())\n"
   ]
  },
  {
   "cell_type": "code",
   "execution_count": null,
   "metadata": {},
   "outputs": [],
   "source": [
    "globalAirport = globalAirport.dropna(subset=['AirportName', 'IATACode'], how='all')"
   ]
  },
  {
   "cell_type": "code",
   "execution_count": null,
   "metadata": {},
   "outputs": [
    {
     "name": "stderr",
     "output_type": "stream",
     "text": [
      "C:\\Users\\ofent\\AppData\\Local\\Temp/ipykernel_13944/3751426283.py:1: SettingWithCopyWarning: \n",
      "A value is trying to be set on a copy of a slice from a DataFrame.\n",
      "Try using .loc[row_indexer,col_indexer] = value instead\n",
      "\n",
      "See the caveats in the documentation: https://pandas.pydata.org/pandas-docs/stable/user_guide/indexing.html#returning-a-view-versus-a-copy\n",
      "  globalAirport['IATACode'] = globalAirport['IATACode'].fillna('Unknown')\n",
      "C:\\Users\\ofent\\AppData\\Local\\Temp/ipykernel_13944/3751426283.py:2: SettingWithCopyWarning: \n",
      "A value is trying to be set on a copy of a slice from a DataFrame.\n",
      "Try using .loc[row_indexer,col_indexer] = value instead\n",
      "\n",
      "See the caveats in the documentation: https://pandas.pydata.org/pandas-docs/stable/user_guide/indexing.html#returning-a-view-versus-a-copy\n",
      "  globalAirport['AirportName'] = globalAirport['AirportName'].fillna('Unknown')\n"
     ]
    }
   ],
   "source": [
    "globalAirport['IATACode'] = globalAirport['IATACode'].fillna('Unknown')\n",
    "globalAirport['AirportName'] = globalAirport['AirportName'].fillna('Unknown')"
   ]
  },
  {
   "cell_type": "code",
   "execution_count": null,
   "metadata": {},
   "outputs": [
    {
     "name": "stderr",
     "output_type": "stream",
     "text": [
      "C:\\Users\\ofent\\AppData\\Local\\Temp/ipykernel_13944/1284196657.py:1: SettingWithCopyWarning: \n",
      "A value is trying to be set on a copy of a slice from a DataFrame.\n",
      "Try using .loc[row_indexer,col_indexer] = value instead\n",
      "\n",
      "See the caveats in the documentation: https://pandas.pydata.org/pandas-docs/stable/user_guide/indexing.html#returning-a-view-versus-a-copy\n",
      "  globalAirport['LatitudeDir'] = globalAirport['LatitudeDir'].replace(\"U\", pd.NA)\n",
      "C:\\Users\\ofent\\AppData\\Local\\Temp/ipykernel_13944/1284196657.py:2: SettingWithCopyWarning: \n",
      "A value is trying to be set on a copy of a slice from a DataFrame.\n",
      "Try using .loc[row_indexer,col_indexer] = value instead\n",
      "\n",
      "See the caveats in the documentation: https://pandas.pydata.org/pandas-docs/stable/user_guide/indexing.html#returning-a-view-versus-a-copy\n",
      "  globalAirport['LongitudeDirection'] = globalAirport['LongitudeDirection'].replace(\"U\", pd.NA)\n"
     ]
    }
   ],
   "source": [
    "globalAirport['LatitudeDir'] = globalAirport['LatitudeDir'].replace(\"U\", pd.NA)\n",
    "globalAirport['LongitudeDirection'] = globalAirport['LongitudeDirection'].replace(\"U\", pd.NA)"
   ]
  },
  {
   "cell_type": "code",
   "execution_count": null,
   "metadata": {},
   "outputs": [
    {
     "name": "stdout",
     "output_type": "stream",
     "text": [
      "ICAOCode                   0\n",
      "IATACode                   0\n",
      "AirportName                0\n",
      "City                       0\n",
      "Country                    0\n",
      "LatitudeDegrees            0\n",
      "LatitudeMinutes            0\n",
      "LatitudeSeconds            0\n",
      "LatitudeDir                0\n",
      "LongitudeDegrees           0\n",
      "LongitudeMinutes           0\n",
      "LongitudeSeconds           0\n",
      "LongitudeDirection         0\n",
      "Altitude                   0\n",
      "LatitudeDecimalDegrees     0\n",
      "LongitudeDecimalDegrees    0\n",
      "dtype: int64\n"
     ]
    }
   ],
   "source": [
    "globalAirport = globalAirport.dropna(subset=['LatitudeDir', 'LongitudeDirection'])\n",
    "\n",
    "invalid_coords = (globalAirport['LatitudeDegrees'] == 0) & (globalAirport['LatitudeMinutes'] == 0) & (globalAirport['LatitudeSeconds'] == 0) & \\\n",
    "                 (globalAirport['LongitudeDegrees'] == 0) & (globalAirport['LongitudeMinutes'] == 0) & (globalAirport['LongitudeSeconds'] == 0)\n",
    "globalAirport = globalAirport[~invalid_coords]\n",
    "\n",
    "globalAirport = globalAirport[(globalAirport['LatitudeDecimalDegrees'] != 0) & (globalAirport['LongitudeDecimalDegrees'] != 0)]\n",
    "\n",
    "print(globalAirport.isnull().sum())"
   ]
  },
  {
   "cell_type": "code",
   "execution_count": null,
   "metadata": {},
   "outputs": [
    {
     "data": {
      "text/html": [
       "<div>\n",
       "<style scoped>\n",
       "    .dataframe tbody tr th:only-of-type {\n",
       "        vertical-align: middle;\n",
       "    }\n",
       "\n",
       "    .dataframe tbody tr th {\n",
       "        vertical-align: top;\n",
       "    }\n",
       "\n",
       "    .dataframe thead th {\n",
       "        text-align: right;\n",
       "    }\n",
       "</style>\n",
       "<table border=\"1\" class=\"dataframe\">\n",
       "  <thead>\n",
       "    <tr style=\"text-align: right;\">\n",
       "      <th></th>\n",
       "      <th>ICAOCode</th>\n",
       "      <th>IATACode</th>\n",
       "      <th>AirportName</th>\n",
       "      <th>City</th>\n",
       "      <th>Country</th>\n",
       "      <th>LatitudeDegrees</th>\n",
       "      <th>LatitudeMinutes</th>\n",
       "      <th>LatitudeSeconds</th>\n",
       "      <th>LatitudeDir</th>\n",
       "      <th>LongitudeDegrees</th>\n",
       "      <th>LongitudeMinutes</th>\n",
       "      <th>LongitudeSeconds</th>\n",
       "      <th>LongitudeDirection</th>\n",
       "      <th>Altitude</th>\n",
       "      <th>LatitudeDecimalDegrees</th>\n",
       "      <th>LongitudeDecimalDegrees</th>\n",
       "    </tr>\n",
       "  </thead>\n",
       "  <tbody>\n",
       "    <tr>\n",
       "      <th>0</th>\n",
       "      <td>AYGA</td>\n",
       "      <td>GKA</td>\n",
       "      <td>GOROKA</td>\n",
       "      <td>GOROKA</td>\n",
       "      <td>PAPUA NEW GUINEA</td>\n",
       "      <td>6</td>\n",
       "      <td>4</td>\n",
       "      <td>54</td>\n",
       "      <td>S</td>\n",
       "      <td>145</td>\n",
       "      <td>23</td>\n",
       "      <td>30</td>\n",
       "      <td>E</td>\n",
       "      <td>1610</td>\n",
       "      <td>-6.082</td>\n",
       "      <td>145.392</td>\n",
       "    </tr>\n",
       "    <tr>\n",
       "      <th>2</th>\n",
       "      <td>AYMD</td>\n",
       "      <td>MAG</td>\n",
       "      <td>MADANG</td>\n",
       "      <td>MADANG</td>\n",
       "      <td>PAPUA NEW GUINEA</td>\n",
       "      <td>5</td>\n",
       "      <td>12</td>\n",
       "      <td>25</td>\n",
       "      <td>S</td>\n",
       "      <td>145</td>\n",
       "      <td>47</td>\n",
       "      <td>19</td>\n",
       "      <td>E</td>\n",
       "      <td>7</td>\n",
       "      <td>-5.207</td>\n",
       "      <td>145.789</td>\n",
       "    </tr>\n",
       "    <tr>\n",
       "      <th>3</th>\n",
       "      <td>AYMH</td>\n",
       "      <td>HGU</td>\n",
       "      <td>MOUNT HAGEN</td>\n",
       "      <td>MOUNT HAGEN</td>\n",
       "      <td>PAPUA NEW GUINEA</td>\n",
       "      <td>5</td>\n",
       "      <td>49</td>\n",
       "      <td>34</td>\n",
       "      <td>S</td>\n",
       "      <td>144</td>\n",
       "      <td>17</td>\n",
       "      <td>46</td>\n",
       "      <td>E</td>\n",
       "      <td>1643</td>\n",
       "      <td>-5.826</td>\n",
       "      <td>144.296</td>\n",
       "    </tr>\n",
       "    <tr>\n",
       "      <th>4</th>\n",
       "      <td>AYNZ</td>\n",
       "      <td>LAE</td>\n",
       "      <td>NADZAB</td>\n",
       "      <td>NADZAB</td>\n",
       "      <td>PAPUA NEW GUINEA</td>\n",
       "      <td>6</td>\n",
       "      <td>34</td>\n",
       "      <td>11</td>\n",
       "      <td>S</td>\n",
       "      <td>146</td>\n",
       "      <td>43</td>\n",
       "      <td>34</td>\n",
       "      <td>E</td>\n",
       "      <td>73</td>\n",
       "      <td>-6.570</td>\n",
       "      <td>146.726</td>\n",
       "    </tr>\n",
       "    <tr>\n",
       "      <th>5</th>\n",
       "      <td>AYPY</td>\n",
       "      <td>POM</td>\n",
       "      <td>PORT MORESBY JACKSONS INTERNATIONAL</td>\n",
       "      <td>PORT MORESBY</td>\n",
       "      <td>PAPUA NEW GUINEA</td>\n",
       "      <td>9</td>\n",
       "      <td>26</td>\n",
       "      <td>36</td>\n",
       "      <td>S</td>\n",
       "      <td>147</td>\n",
       "      <td>13</td>\n",
       "      <td>12</td>\n",
       "      <td>E</td>\n",
       "      <td>45</td>\n",
       "      <td>-9.443</td>\n",
       "      <td>147.220</td>\n",
       "    </tr>\n",
       "    <tr>\n",
       "      <th>...</th>\n",
       "      <td>...</td>\n",
       "      <td>...</td>\n",
       "      <td>...</td>\n",
       "      <td>...</td>\n",
       "      <td>...</td>\n",
       "      <td>...</td>\n",
       "      <td>...</td>\n",
       "      <td>...</td>\n",
       "      <td>...</td>\n",
       "      <td>...</td>\n",
       "      <td>...</td>\n",
       "      <td>...</td>\n",
       "      <td>...</td>\n",
       "      <td>...</td>\n",
       "      <td>...</td>\n",
       "      <td>...</td>\n",
       "    </tr>\n",
       "    <tr>\n",
       "      <th>9286</th>\n",
       "      <td>ZYHB</td>\n",
       "      <td>HRB</td>\n",
       "      <td>TAIPING</td>\n",
       "      <td>HARBIN</td>\n",
       "      <td>CHINA</td>\n",
       "      <td>45</td>\n",
       "      <td>37</td>\n",
       "      <td>24</td>\n",
       "      <td>N</td>\n",
       "      <td>126</td>\n",
       "      <td>15</td>\n",
       "      <td>1</td>\n",
       "      <td>E</td>\n",
       "      <td>139</td>\n",
       "      <td>45.623</td>\n",
       "      <td>126.250</td>\n",
       "    </tr>\n",
       "    <tr>\n",
       "      <th>9289</th>\n",
       "      <td>ZYJM</td>\n",
       "      <td>Unknown</td>\n",
       "      <td>JIAMUSI</td>\n",
       "      <td>JIAMUSI</td>\n",
       "      <td>CHINA</td>\n",
       "      <td>46</td>\n",
       "      <td>50</td>\n",
       "      <td>36</td>\n",
       "      <td>N</td>\n",
       "      <td>130</td>\n",
       "      <td>27</td>\n",
       "      <td>55</td>\n",
       "      <td>E</td>\n",
       "      <td>80</td>\n",
       "      <td>46.843</td>\n",
       "      <td>130.465</td>\n",
       "    </tr>\n",
       "    <tr>\n",
       "      <th>9290</th>\n",
       "      <td>ZYMD</td>\n",
       "      <td>Unknown</td>\n",
       "      <td>HAILANG</td>\n",
       "      <td>MUDANJIANG</td>\n",
       "      <td>CHINA</td>\n",
       "      <td>44</td>\n",
       "      <td>31</td>\n",
       "      <td>26</td>\n",
       "      <td>N</td>\n",
       "      <td>129</td>\n",
       "      <td>34</td>\n",
       "      <td>8</td>\n",
       "      <td>E</td>\n",
       "      <td>270</td>\n",
       "      <td>44.524</td>\n",
       "      <td>129.569</td>\n",
       "    </tr>\n",
       "    <tr>\n",
       "      <th>9296</th>\n",
       "      <td>ZYTL</td>\n",
       "      <td>DLC</td>\n",
       "      <td>ZHOUSHUIZI</td>\n",
       "      <td>DALIAN</td>\n",
       "      <td>CHINA</td>\n",
       "      <td>38</td>\n",
       "      <td>57</td>\n",
       "      <td>56</td>\n",
       "      <td>N</td>\n",
       "      <td>121</td>\n",
       "      <td>32</td>\n",
       "      <td>18</td>\n",
       "      <td>E</td>\n",
       "      <td>33</td>\n",
       "      <td>38.966</td>\n",
       "      <td>121.538</td>\n",
       "    </tr>\n",
       "    <tr>\n",
       "      <th>9299</th>\n",
       "      <td>ZYYJ</td>\n",
       "      <td>Unknown</td>\n",
       "      <td>YANJI</td>\n",
       "      <td>YANJI</td>\n",
       "      <td>CHINA</td>\n",
       "      <td>42</td>\n",
       "      <td>52</td>\n",
       "      <td>54</td>\n",
       "      <td>N</td>\n",
       "      <td>129</td>\n",
       "      <td>26</td>\n",
       "      <td>54</td>\n",
       "      <td>E</td>\n",
       "      <td>191</td>\n",
       "      <td>42.882</td>\n",
       "      <td>129.448</td>\n",
       "    </tr>\n",
       "  </tbody>\n",
       "</table>\n",
       "<p>4186 rows × 16 columns</p>\n",
       "</div>"
      ],
      "text/plain": [
       "     ICAOCode IATACode                          AirportName          City  \\\n",
       "0        AYGA      GKA                               GOROKA        GOROKA   \n",
       "2        AYMD      MAG                               MADANG        MADANG   \n",
       "3        AYMH      HGU                          MOUNT HAGEN   MOUNT HAGEN   \n",
       "4        AYNZ      LAE                               NADZAB        NADZAB   \n",
       "5        AYPY      POM  PORT MORESBY JACKSONS INTERNATIONAL  PORT MORESBY   \n",
       "...       ...      ...                                  ...           ...   \n",
       "9286     ZYHB      HRB                              TAIPING        HARBIN   \n",
       "9289     ZYJM  Unknown                              JIAMUSI       JIAMUSI   \n",
       "9290     ZYMD  Unknown                              HAILANG    MUDANJIANG   \n",
       "9296     ZYTL      DLC                           ZHOUSHUIZI        DALIAN   \n",
       "9299     ZYYJ  Unknown                                YANJI         YANJI   \n",
       "\n",
       "               Country  LatitudeDegrees  LatitudeMinutes  LatitudeSeconds  \\\n",
       "0     PAPUA NEW GUINEA                6                4               54   \n",
       "2     PAPUA NEW GUINEA                5               12               25   \n",
       "3     PAPUA NEW GUINEA                5               49               34   \n",
       "4     PAPUA NEW GUINEA                6               34               11   \n",
       "5     PAPUA NEW GUINEA                9               26               36   \n",
       "...                ...              ...              ...              ...   \n",
       "9286             CHINA               45               37               24   \n",
       "9289             CHINA               46               50               36   \n",
       "9290             CHINA               44               31               26   \n",
       "9296             CHINA               38               57               56   \n",
       "9299             CHINA               42               52               54   \n",
       "\n",
       "     LatitudeDir  LongitudeDegrees  LongitudeMinutes  LongitudeSeconds  \\\n",
       "0              S               145                23                30   \n",
       "2              S               145                47                19   \n",
       "3              S               144                17                46   \n",
       "4              S               146                43                34   \n",
       "5              S               147                13                12   \n",
       "...          ...               ...               ...               ...   \n",
       "9286           N               126                15                 1   \n",
       "9289           N               130                27                55   \n",
       "9290           N               129                34                 8   \n",
       "9296           N               121                32                18   \n",
       "9299           N               129                26                54   \n",
       "\n",
       "     LongitudeDirection  Altitude  LatitudeDecimalDegrees  \\\n",
       "0                     E      1610                  -6.082   \n",
       "2                     E         7                  -5.207   \n",
       "3                     E      1643                  -5.826   \n",
       "4                     E        73                  -6.570   \n",
       "5                     E        45                  -9.443   \n",
       "...                 ...       ...                     ...   \n",
       "9286                  E       139                  45.623   \n",
       "9289                  E        80                  46.843   \n",
       "9290                  E       270                  44.524   \n",
       "9296                  E        33                  38.966   \n",
       "9299                  E       191                  42.882   \n",
       "\n",
       "      LongitudeDecimalDegrees  \n",
       "0                     145.392  \n",
       "2                     145.789  \n",
       "3                     144.296  \n",
       "4                     146.726  \n",
       "5                     147.220  \n",
       "...                       ...  \n",
       "9286                  126.250  \n",
       "9289                  130.465  \n",
       "9290                  129.569  \n",
       "9296                  121.538  \n",
       "9299                  129.448  \n",
       "\n",
       "[4186 rows x 16 columns]"
      ]
     },
     "execution_count": 15,
     "metadata": {},
     "output_type": "execute_result"
    }
   ],
   "source": [
    "globalAirport"
   ]
  },
  {
   "cell_type": "code",
   "execution_count": null,
   "metadata": {},
   "outputs": [
    {
     "name": "stdout",
     "output_type": "stream",
     "text": [
      "ICAOCode                   0\n",
      "IATACode                   0\n",
      "AirportName                0\n",
      "City                       0\n",
      "Country                    0\n",
      "LatitudeDegrees            0\n",
      "LatitudeMinutes            0\n",
      "LatitudeSeconds            0\n",
      "LatitudeDir                0\n",
      "LongitudeDegrees           0\n",
      "LongitudeMinutes           0\n",
      "LongitudeSeconds           0\n",
      "LongitudeDirection         0\n",
      "Altitude                   0\n",
      "LatitudeDecimalDegrees     0\n",
      "LongitudeDecimalDegrees    0\n",
      "dtype: int64\n"
     ]
    }
   ],
   "source": [
    "globalAirport = globalAirport.dropna(subset=['AirportName', 'IATACode'])\n",
    "print(globalAirport.isnull().sum())"
   ]
  },
  {
   "cell_type": "code",
   "execution_count": null,
   "metadata": {},
   "outputs": [
    {
     "name": "stdout",
     "output_type": "stream",
     "text": [
      "ICAOCode                   0\n",
      "IATACode                   0\n",
      "AirportName                0\n",
      "City                       0\n",
      "Country                    0\n",
      "LatitudeDegrees            0\n",
      "LatitudeMinutes            0\n",
      "LatitudeSeconds            0\n",
      "LatitudeDir                0\n",
      "LongitudeDegrees           0\n",
      "LongitudeMinutes           0\n",
      "LongitudeSeconds           0\n",
      "LongitudeDirection         0\n",
      "Altitude                   0\n",
      "LatitudeDecimalDegrees     0\n",
      "LongitudeDecimalDegrees    0\n",
      "dtype: int64\n"
     ]
    }
   ],
   "source": [
    "globalAirport['IATACode'] = globalAirport['IATACode'].fillna('Unknown')\n",
    "globalAirport['AirportName'] = globalAirport['AirportName'].fillna('Unknown')\n",
    "print(globalAirport.isnull().sum())"
   ]
  },
  {
   "cell_type": "code",
   "execution_count": null,
   "metadata": {},
   "outputs": [
    {
     "name": "stdout",
     "output_type": "stream",
     "text": [
      "ICAOCode                   0\n",
      "IATACode                   0\n",
      "AirportName                0\n",
      "City                       0\n",
      "Country                    0\n",
      "LatitudeDegrees            0\n",
      "LatitudeMinutes            0\n",
      "LatitudeSeconds            0\n",
      "LatitudeDir                0\n",
      "LongitudeDegrees           0\n",
      "LongitudeMinutes           0\n",
      "LongitudeSeconds           0\n",
      "LongitudeDirection         0\n",
      "Altitude                   0\n",
      "LatitudeDecimalDegrees     0\n",
      "LongitudeDecimalDegrees    0\n",
      "dtype: int64\n"
     ]
    }
   ],
   "source": [
    "globalAirport = globalAirport.dropna(subset=['AirportName', 'IATACode'])\n",
    "\n",
    "\n",
    "globalAirport['IATACode'] = globalAirport['IATACode'].fillna('Unknown')\n",
    "\n",
    "globalAirport['AirportName'] = globalAirport['AirportName'].fillna('Unknown')\n",
    "\n",
    "print(globalAirport.isnull().sum())\n"
   ]
  },
  {
   "cell_type": "code",
   "execution_count": null,
   "metadata": {},
   "outputs": [
    {
     "data": {
      "text/html": [
       "<div>\n",
       "<style scoped>\n",
       "    .dataframe tbody tr th:only-of-type {\n",
       "        vertical-align: middle;\n",
       "    }\n",
       "\n",
       "    .dataframe tbody tr th {\n",
       "        vertical-align: top;\n",
       "    }\n",
       "\n",
       "    .dataframe thead th {\n",
       "        text-align: right;\n",
       "    }\n",
       "</style>\n",
       "<table border=\"1\" class=\"dataframe\">\n",
       "  <thead>\n",
       "    <tr style=\"text-align: right;\">\n",
       "      <th></th>\n",
       "      <th>ICAOCode</th>\n",
       "      <th>IATACode</th>\n",
       "      <th>AirportName</th>\n",
       "      <th>City</th>\n",
       "      <th>Country</th>\n",
       "      <th>LatitudeDegrees</th>\n",
       "      <th>LatitudeMinutes</th>\n",
       "      <th>LatitudeSeconds</th>\n",
       "      <th>LatitudeDir</th>\n",
       "      <th>LongitudeDegrees</th>\n",
       "      <th>LongitudeMinutes</th>\n",
       "      <th>LongitudeSeconds</th>\n",
       "      <th>LongitudeDirection</th>\n",
       "      <th>Altitude</th>\n",
       "      <th>LatitudeDecimalDegrees</th>\n",
       "      <th>LongitudeDecimalDegrees</th>\n",
       "    </tr>\n",
       "  </thead>\n",
       "  <tbody>\n",
       "    <tr>\n",
       "      <th>0</th>\n",
       "      <td>AYGA</td>\n",
       "      <td>GKA</td>\n",
       "      <td>GOROKA</td>\n",
       "      <td>GOROKA</td>\n",
       "      <td>PAPUA NEW GUINEA</td>\n",
       "      <td>6</td>\n",
       "      <td>4</td>\n",
       "      <td>54</td>\n",
       "      <td>S</td>\n",
       "      <td>145</td>\n",
       "      <td>23</td>\n",
       "      <td>30</td>\n",
       "      <td>E</td>\n",
       "      <td>1610</td>\n",
       "      <td>-6.082</td>\n",
       "      <td>145.392</td>\n",
       "    </tr>\n",
       "    <tr>\n",
       "      <th>2</th>\n",
       "      <td>AYMD</td>\n",
       "      <td>MAG</td>\n",
       "      <td>MADANG</td>\n",
       "      <td>MADANG</td>\n",
       "      <td>PAPUA NEW GUINEA</td>\n",
       "      <td>5</td>\n",
       "      <td>12</td>\n",
       "      <td>25</td>\n",
       "      <td>S</td>\n",
       "      <td>145</td>\n",
       "      <td>47</td>\n",
       "      <td>19</td>\n",
       "      <td>E</td>\n",
       "      <td>7</td>\n",
       "      <td>-5.207</td>\n",
       "      <td>145.789</td>\n",
       "    </tr>\n",
       "    <tr>\n",
       "      <th>3</th>\n",
       "      <td>AYMH</td>\n",
       "      <td>HGU</td>\n",
       "      <td>MOUNT HAGEN</td>\n",
       "      <td>MOUNT HAGEN</td>\n",
       "      <td>PAPUA NEW GUINEA</td>\n",
       "      <td>5</td>\n",
       "      <td>49</td>\n",
       "      <td>34</td>\n",
       "      <td>S</td>\n",
       "      <td>144</td>\n",
       "      <td>17</td>\n",
       "      <td>46</td>\n",
       "      <td>E</td>\n",
       "      <td>1643</td>\n",
       "      <td>-5.826</td>\n",
       "      <td>144.296</td>\n",
       "    </tr>\n",
       "    <tr>\n",
       "      <th>4</th>\n",
       "      <td>AYNZ</td>\n",
       "      <td>LAE</td>\n",
       "      <td>NADZAB</td>\n",
       "      <td>NADZAB</td>\n",
       "      <td>PAPUA NEW GUINEA</td>\n",
       "      <td>6</td>\n",
       "      <td>34</td>\n",
       "      <td>11</td>\n",
       "      <td>S</td>\n",
       "      <td>146</td>\n",
       "      <td>43</td>\n",
       "      <td>34</td>\n",
       "      <td>E</td>\n",
       "      <td>73</td>\n",
       "      <td>-6.570</td>\n",
       "      <td>146.726</td>\n",
       "    </tr>\n",
       "    <tr>\n",
       "      <th>5</th>\n",
       "      <td>AYPY</td>\n",
       "      <td>POM</td>\n",
       "      <td>PORT MORESBY JACKSONS INTERNATIONAL</td>\n",
       "      <td>PORT MORESBY</td>\n",
       "      <td>PAPUA NEW GUINEA</td>\n",
       "      <td>9</td>\n",
       "      <td>26</td>\n",
       "      <td>36</td>\n",
       "      <td>S</td>\n",
       "      <td>147</td>\n",
       "      <td>13</td>\n",
       "      <td>12</td>\n",
       "      <td>E</td>\n",
       "      <td>45</td>\n",
       "      <td>-9.443</td>\n",
       "      <td>147.220</td>\n",
       "    </tr>\n",
       "    <tr>\n",
       "      <th>...</th>\n",
       "      <td>...</td>\n",
       "      <td>...</td>\n",
       "      <td>...</td>\n",
       "      <td>...</td>\n",
       "      <td>...</td>\n",
       "      <td>...</td>\n",
       "      <td>...</td>\n",
       "      <td>...</td>\n",
       "      <td>...</td>\n",
       "      <td>...</td>\n",
       "      <td>...</td>\n",
       "      <td>...</td>\n",
       "      <td>...</td>\n",
       "      <td>...</td>\n",
       "      <td>...</td>\n",
       "      <td>...</td>\n",
       "    </tr>\n",
       "    <tr>\n",
       "      <th>9286</th>\n",
       "      <td>ZYHB</td>\n",
       "      <td>HRB</td>\n",
       "      <td>TAIPING</td>\n",
       "      <td>HARBIN</td>\n",
       "      <td>CHINA</td>\n",
       "      <td>45</td>\n",
       "      <td>37</td>\n",
       "      <td>24</td>\n",
       "      <td>N</td>\n",
       "      <td>126</td>\n",
       "      <td>15</td>\n",
       "      <td>1</td>\n",
       "      <td>E</td>\n",
       "      <td>139</td>\n",
       "      <td>45.623</td>\n",
       "      <td>126.250</td>\n",
       "    </tr>\n",
       "    <tr>\n",
       "      <th>9289</th>\n",
       "      <td>ZYJM</td>\n",
       "      <td>Unknown</td>\n",
       "      <td>JIAMUSI</td>\n",
       "      <td>JIAMUSI</td>\n",
       "      <td>CHINA</td>\n",
       "      <td>46</td>\n",
       "      <td>50</td>\n",
       "      <td>36</td>\n",
       "      <td>N</td>\n",
       "      <td>130</td>\n",
       "      <td>27</td>\n",
       "      <td>55</td>\n",
       "      <td>E</td>\n",
       "      <td>80</td>\n",
       "      <td>46.843</td>\n",
       "      <td>130.465</td>\n",
       "    </tr>\n",
       "    <tr>\n",
       "      <th>9290</th>\n",
       "      <td>ZYMD</td>\n",
       "      <td>Unknown</td>\n",
       "      <td>HAILANG</td>\n",
       "      <td>MUDANJIANG</td>\n",
       "      <td>CHINA</td>\n",
       "      <td>44</td>\n",
       "      <td>31</td>\n",
       "      <td>26</td>\n",
       "      <td>N</td>\n",
       "      <td>129</td>\n",
       "      <td>34</td>\n",
       "      <td>8</td>\n",
       "      <td>E</td>\n",
       "      <td>270</td>\n",
       "      <td>44.524</td>\n",
       "      <td>129.569</td>\n",
       "    </tr>\n",
       "    <tr>\n",
       "      <th>9296</th>\n",
       "      <td>ZYTL</td>\n",
       "      <td>DLC</td>\n",
       "      <td>ZHOUSHUIZI</td>\n",
       "      <td>DALIAN</td>\n",
       "      <td>CHINA</td>\n",
       "      <td>38</td>\n",
       "      <td>57</td>\n",
       "      <td>56</td>\n",
       "      <td>N</td>\n",
       "      <td>121</td>\n",
       "      <td>32</td>\n",
       "      <td>18</td>\n",
       "      <td>E</td>\n",
       "      <td>33</td>\n",
       "      <td>38.966</td>\n",
       "      <td>121.538</td>\n",
       "    </tr>\n",
       "    <tr>\n",
       "      <th>9299</th>\n",
       "      <td>ZYYJ</td>\n",
       "      <td>Unknown</td>\n",
       "      <td>YANJI</td>\n",
       "      <td>YANJI</td>\n",
       "      <td>CHINA</td>\n",
       "      <td>42</td>\n",
       "      <td>52</td>\n",
       "      <td>54</td>\n",
       "      <td>N</td>\n",
       "      <td>129</td>\n",
       "      <td>26</td>\n",
       "      <td>54</td>\n",
       "      <td>E</td>\n",
       "      <td>191</td>\n",
       "      <td>42.882</td>\n",
       "      <td>129.448</td>\n",
       "    </tr>\n",
       "  </tbody>\n",
       "</table>\n",
       "<p>4186 rows × 16 columns</p>\n",
       "</div>"
      ],
      "text/plain": [
       "     ICAOCode IATACode                          AirportName          City  \\\n",
       "0        AYGA      GKA                               GOROKA        GOROKA   \n",
       "2        AYMD      MAG                               MADANG        MADANG   \n",
       "3        AYMH      HGU                          MOUNT HAGEN   MOUNT HAGEN   \n",
       "4        AYNZ      LAE                               NADZAB        NADZAB   \n",
       "5        AYPY      POM  PORT MORESBY JACKSONS INTERNATIONAL  PORT MORESBY   \n",
       "...       ...      ...                                  ...           ...   \n",
       "9286     ZYHB      HRB                              TAIPING        HARBIN   \n",
       "9289     ZYJM  Unknown                              JIAMUSI       JIAMUSI   \n",
       "9290     ZYMD  Unknown                              HAILANG    MUDANJIANG   \n",
       "9296     ZYTL      DLC                           ZHOUSHUIZI        DALIAN   \n",
       "9299     ZYYJ  Unknown                                YANJI         YANJI   \n",
       "\n",
       "               Country  LatitudeDegrees  LatitudeMinutes  LatitudeSeconds  \\\n",
       "0     PAPUA NEW GUINEA                6                4               54   \n",
       "2     PAPUA NEW GUINEA                5               12               25   \n",
       "3     PAPUA NEW GUINEA                5               49               34   \n",
       "4     PAPUA NEW GUINEA                6               34               11   \n",
       "5     PAPUA NEW GUINEA                9               26               36   \n",
       "...                ...              ...              ...              ...   \n",
       "9286             CHINA               45               37               24   \n",
       "9289             CHINA               46               50               36   \n",
       "9290             CHINA               44               31               26   \n",
       "9296             CHINA               38               57               56   \n",
       "9299             CHINA               42               52               54   \n",
       "\n",
       "     LatitudeDir  LongitudeDegrees  LongitudeMinutes  LongitudeSeconds  \\\n",
       "0              S               145                23                30   \n",
       "2              S               145                47                19   \n",
       "3              S               144                17                46   \n",
       "4              S               146                43                34   \n",
       "5              S               147                13                12   \n",
       "...          ...               ...               ...               ...   \n",
       "9286           N               126                15                 1   \n",
       "9289           N               130                27                55   \n",
       "9290           N               129                34                 8   \n",
       "9296           N               121                32                18   \n",
       "9299           N               129                26                54   \n",
       "\n",
       "     LongitudeDirection  Altitude  LatitudeDecimalDegrees  \\\n",
       "0                     E      1610                  -6.082   \n",
       "2                     E         7                  -5.207   \n",
       "3                     E      1643                  -5.826   \n",
       "4                     E        73                  -6.570   \n",
       "5                     E        45                  -9.443   \n",
       "...                 ...       ...                     ...   \n",
       "9286                  E       139                  45.623   \n",
       "9289                  E        80                  46.843   \n",
       "9290                  E       270                  44.524   \n",
       "9296                  E        33                  38.966   \n",
       "9299                  E       191                  42.882   \n",
       "\n",
       "      LongitudeDecimalDegrees  \n",
       "0                     145.392  \n",
       "2                     145.789  \n",
       "3                     144.296  \n",
       "4                     146.726  \n",
       "5                     147.220  \n",
       "...                       ...  \n",
       "9286                  126.250  \n",
       "9289                  130.465  \n",
       "9290                  129.569  \n",
       "9296                  121.538  \n",
       "9299                  129.448  \n",
       "\n",
       "[4186 rows x 16 columns]"
      ]
     },
     "execution_count": 19,
     "metadata": {},
     "output_type": "execute_result"
    }
   ],
   "source": [
    "globalAirport"
   ]
  },
  {
   "cell_type": "markdown",
   "metadata": {},
   "source": [
    "9. Create a map that shows the location of each airport in the continental U.S. and changes the size \n",
    "of the airport’s dot depending on its number of claims. To do that, use GeoPandas as described in \n",
    "chapter 13."
   ]
  },
  {
   "cell_type": "code",
   "execution_count": null,
   "metadata": {},
   "outputs": [
    {
     "name": "stderr",
     "output_type": "stream",
     "text": [
      "c:\\Users\\ofent\\Documents\\New folder\\lib\\site-packages\\geopandas\\plotting.py:693: UserWarning: The GeoDataFrame you are attempting to plot is empty. Nothing has been displayed.\n",
      "  warnings.warn(\n",
      "No handles with labels found to put in legend.\n"
     ]
    },
    {
     "ename": "ValueError",
     "evalue": "cannot convert float NaN to integer",
     "output_type": "error",
     "traceback": [
      "\u001b[1;31m---------------------------------------------------------------------------\u001b[0m",
      "\u001b[1;31mValueError\u001b[0m                                Traceback (most recent call last)",
      "\u001b[1;32mc:\\Users\\ofent\\Documents\\New folder\\lib\\site-packages\\IPython\\core\\formatters.py\u001b[0m in \u001b[0;36m__call__\u001b[1;34m(self, obj)\u001b[0m\n\u001b[0;32m    339\u001b[0m                 \u001b[1;32mpass\u001b[0m\u001b[1;33m\u001b[0m\u001b[1;33m\u001b[0m\u001b[0m\n\u001b[0;32m    340\u001b[0m             \u001b[1;32melse\u001b[0m\u001b[1;33m:\u001b[0m\u001b[1;33m\u001b[0m\u001b[1;33m\u001b[0m\u001b[0m\n\u001b[1;32m--> 341\u001b[1;33m                 \u001b[1;32mreturn\u001b[0m \u001b[0mprinter\u001b[0m\u001b[1;33m(\u001b[0m\u001b[0mobj\u001b[0m\u001b[1;33m)\u001b[0m\u001b[1;33m\u001b[0m\u001b[1;33m\u001b[0m\u001b[0m\n\u001b[0m\u001b[0;32m    342\u001b[0m             \u001b[1;31m# Finally look for special method names\u001b[0m\u001b[1;33m\u001b[0m\u001b[1;33m\u001b[0m\u001b[0m\n\u001b[0;32m    343\u001b[0m             \u001b[0mmethod\u001b[0m \u001b[1;33m=\u001b[0m \u001b[0mget_real_method\u001b[0m\u001b[1;33m(\u001b[0m\u001b[0mobj\u001b[0m\u001b[1;33m,\u001b[0m \u001b[0mself\u001b[0m\u001b[1;33m.\u001b[0m\u001b[0mprint_method\u001b[0m\u001b[1;33m)\u001b[0m\u001b[1;33m\u001b[0m\u001b[1;33m\u001b[0m\u001b[0m\n",
      "\u001b[1;32mc:\\Users\\ofent\\Documents\\New folder\\lib\\site-packages\\IPython\\core\\pylabtools.py\u001b[0m in \u001b[0;36mprint_figure\u001b[1;34m(fig, fmt, bbox_inches, base64, **kwargs)\u001b[0m\n\u001b[0;32m    149\u001b[0m         \u001b[0mFigureCanvasBase\u001b[0m\u001b[1;33m(\u001b[0m\u001b[0mfig\u001b[0m\u001b[1;33m)\u001b[0m\u001b[1;33m\u001b[0m\u001b[1;33m\u001b[0m\u001b[0m\n\u001b[0;32m    150\u001b[0m \u001b[1;33m\u001b[0m\u001b[0m\n\u001b[1;32m--> 151\u001b[1;33m     \u001b[0mfig\u001b[0m\u001b[1;33m.\u001b[0m\u001b[0mcanvas\u001b[0m\u001b[1;33m.\u001b[0m\u001b[0mprint_figure\u001b[0m\u001b[1;33m(\u001b[0m\u001b[0mbytes_io\u001b[0m\u001b[1;33m,\u001b[0m \u001b[1;33m**\u001b[0m\u001b[0mkw\u001b[0m\u001b[1;33m)\u001b[0m\u001b[1;33m\u001b[0m\u001b[1;33m\u001b[0m\u001b[0m\n\u001b[0m\u001b[0;32m    152\u001b[0m     \u001b[0mdata\u001b[0m \u001b[1;33m=\u001b[0m \u001b[0mbytes_io\u001b[0m\u001b[1;33m.\u001b[0m\u001b[0mgetvalue\u001b[0m\u001b[1;33m(\u001b[0m\u001b[1;33m)\u001b[0m\u001b[1;33m\u001b[0m\u001b[1;33m\u001b[0m\u001b[0m\n\u001b[0;32m    153\u001b[0m     \u001b[1;32mif\u001b[0m \u001b[0mfmt\u001b[0m \u001b[1;33m==\u001b[0m \u001b[1;34m'svg'\u001b[0m\u001b[1;33m:\u001b[0m\u001b[1;33m\u001b[0m\u001b[1;33m\u001b[0m\u001b[0m\n",
      "\u001b[1;32mc:\\Users\\ofent\\Documents\\New folder\\lib\\site-packages\\matplotlib\\backend_bases.py\u001b[0m in \u001b[0;36mprint_figure\u001b[1;34m(self, filename, dpi, facecolor, edgecolor, orientation, format, bbox_inches, pad_inches, bbox_extra_artists, backend, **kwargs)\u001b[0m\n\u001b[0;32m   2228\u001b[0m                        else suppress())\n\u001b[0;32m   2229\u001b[0m                 \u001b[1;32mwith\u001b[0m \u001b[0mctx\u001b[0m\u001b[1;33m:\u001b[0m\u001b[1;33m\u001b[0m\u001b[1;33m\u001b[0m\u001b[0m\n\u001b[1;32m-> 2230\u001b[1;33m                     \u001b[0mself\u001b[0m\u001b[1;33m.\u001b[0m\u001b[0mfigure\u001b[0m\u001b[1;33m.\u001b[0m\u001b[0mdraw\u001b[0m\u001b[1;33m(\u001b[0m\u001b[0mrenderer\u001b[0m\u001b[1;33m)\u001b[0m\u001b[1;33m\u001b[0m\u001b[1;33m\u001b[0m\u001b[0m\n\u001b[0m\u001b[0;32m   2231\u001b[0m \u001b[1;33m\u001b[0m\u001b[0m\n\u001b[0;32m   2232\u001b[0m             \u001b[1;32mif\u001b[0m \u001b[0mbbox_inches\u001b[0m\u001b[1;33m:\u001b[0m\u001b[1;33m\u001b[0m\u001b[1;33m\u001b[0m\u001b[0m\n",
      "\u001b[1;32mc:\\Users\\ofent\\Documents\\New folder\\lib\\site-packages\\matplotlib\\artist.py\u001b[0m in \u001b[0;36mdraw_wrapper\u001b[1;34m(artist, renderer, *args, **kwargs)\u001b[0m\n\u001b[0;32m     72\u001b[0m     \u001b[1;33m@\u001b[0m\u001b[0mwraps\u001b[0m\u001b[1;33m(\u001b[0m\u001b[0mdraw\u001b[0m\u001b[1;33m)\u001b[0m\u001b[1;33m\u001b[0m\u001b[1;33m\u001b[0m\u001b[0m\n\u001b[0;32m     73\u001b[0m     \u001b[1;32mdef\u001b[0m \u001b[0mdraw_wrapper\u001b[0m\u001b[1;33m(\u001b[0m\u001b[0martist\u001b[0m\u001b[1;33m,\u001b[0m \u001b[0mrenderer\u001b[0m\u001b[1;33m,\u001b[0m \u001b[1;33m*\u001b[0m\u001b[0margs\u001b[0m\u001b[1;33m,\u001b[0m \u001b[1;33m**\u001b[0m\u001b[0mkwargs\u001b[0m\u001b[1;33m)\u001b[0m\u001b[1;33m:\u001b[0m\u001b[1;33m\u001b[0m\u001b[1;33m\u001b[0m\u001b[0m\n\u001b[1;32m---> 74\u001b[1;33m         \u001b[0mresult\u001b[0m \u001b[1;33m=\u001b[0m \u001b[0mdraw\u001b[0m\u001b[1;33m(\u001b[0m\u001b[0martist\u001b[0m\u001b[1;33m,\u001b[0m \u001b[0mrenderer\u001b[0m\u001b[1;33m,\u001b[0m \u001b[1;33m*\u001b[0m\u001b[0margs\u001b[0m\u001b[1;33m,\u001b[0m \u001b[1;33m**\u001b[0m\u001b[0mkwargs\u001b[0m\u001b[1;33m)\u001b[0m\u001b[1;33m\u001b[0m\u001b[1;33m\u001b[0m\u001b[0m\n\u001b[0m\u001b[0;32m     75\u001b[0m         \u001b[1;32mif\u001b[0m \u001b[0mrenderer\u001b[0m\u001b[1;33m.\u001b[0m\u001b[0m_rasterizing\u001b[0m\u001b[1;33m:\u001b[0m\u001b[1;33m\u001b[0m\u001b[1;33m\u001b[0m\u001b[0m\n\u001b[0;32m     76\u001b[0m             \u001b[0mrenderer\u001b[0m\u001b[1;33m.\u001b[0m\u001b[0mstop_rasterizing\u001b[0m\u001b[1;33m(\u001b[0m\u001b[1;33m)\u001b[0m\u001b[1;33m\u001b[0m\u001b[1;33m\u001b[0m\u001b[0m\n",
      "\u001b[1;32mc:\\Users\\ofent\\Documents\\New folder\\lib\\site-packages\\matplotlib\\artist.py\u001b[0m in \u001b[0;36mdraw_wrapper\u001b[1;34m(artist, renderer, *args, **kwargs)\u001b[0m\n\u001b[0;32m     49\u001b[0m                 \u001b[0mrenderer\u001b[0m\u001b[1;33m.\u001b[0m\u001b[0mstart_filter\u001b[0m\u001b[1;33m(\u001b[0m\u001b[1;33m)\u001b[0m\u001b[1;33m\u001b[0m\u001b[1;33m\u001b[0m\u001b[0m\n\u001b[0;32m     50\u001b[0m \u001b[1;33m\u001b[0m\u001b[0m\n\u001b[1;32m---> 51\u001b[1;33m             \u001b[1;32mreturn\u001b[0m \u001b[0mdraw\u001b[0m\u001b[1;33m(\u001b[0m\u001b[0martist\u001b[0m\u001b[1;33m,\u001b[0m \u001b[0mrenderer\u001b[0m\u001b[1;33m,\u001b[0m \u001b[1;33m*\u001b[0m\u001b[0margs\u001b[0m\u001b[1;33m,\u001b[0m \u001b[1;33m**\u001b[0m\u001b[0mkwargs\u001b[0m\u001b[1;33m)\u001b[0m\u001b[1;33m\u001b[0m\u001b[1;33m\u001b[0m\u001b[0m\n\u001b[0m\u001b[0;32m     52\u001b[0m         \u001b[1;32mfinally\u001b[0m\u001b[1;33m:\u001b[0m\u001b[1;33m\u001b[0m\u001b[1;33m\u001b[0m\u001b[0m\n\u001b[0;32m     53\u001b[0m             \u001b[1;32mif\u001b[0m \u001b[0martist\u001b[0m\u001b[1;33m.\u001b[0m\u001b[0mget_agg_filter\u001b[0m\u001b[1;33m(\u001b[0m\u001b[1;33m)\u001b[0m \u001b[1;32mis\u001b[0m \u001b[1;32mnot\u001b[0m \u001b[1;32mNone\u001b[0m\u001b[1;33m:\u001b[0m\u001b[1;33m\u001b[0m\u001b[1;33m\u001b[0m\u001b[0m\n",
      "\u001b[1;32mc:\\Users\\ofent\\Documents\\New folder\\lib\\site-packages\\matplotlib\\figure.py\u001b[0m in \u001b[0;36mdraw\u001b[1;34m(self, renderer)\u001b[0m\n\u001b[0;32m   2788\u001b[0m \u001b[1;33m\u001b[0m\u001b[0m\n\u001b[0;32m   2789\u001b[0m             \u001b[0mself\u001b[0m\u001b[1;33m.\u001b[0m\u001b[0mpatch\u001b[0m\u001b[1;33m.\u001b[0m\u001b[0mdraw\u001b[0m\u001b[1;33m(\u001b[0m\u001b[0mrenderer\u001b[0m\u001b[1;33m)\u001b[0m\u001b[1;33m\u001b[0m\u001b[1;33m\u001b[0m\u001b[0m\n\u001b[1;32m-> 2790\u001b[1;33m             mimage._draw_list_compositing_images(\n\u001b[0m\u001b[0;32m   2791\u001b[0m                 renderer, self, artists, self.suppressComposite)\n\u001b[0;32m   2792\u001b[0m \u001b[1;33m\u001b[0m\u001b[0m\n",
      "\u001b[1;32mc:\\Users\\ofent\\Documents\\New folder\\lib\\site-packages\\matplotlib\\image.py\u001b[0m in \u001b[0;36m_draw_list_compositing_images\u001b[1;34m(renderer, parent, artists, suppress_composite)\u001b[0m\n\u001b[0;32m    130\u001b[0m     \u001b[1;32mif\u001b[0m \u001b[0mnot_composite\u001b[0m \u001b[1;32mor\u001b[0m \u001b[1;32mnot\u001b[0m \u001b[0mhas_images\u001b[0m\u001b[1;33m:\u001b[0m\u001b[1;33m\u001b[0m\u001b[1;33m\u001b[0m\u001b[0m\n\u001b[0;32m    131\u001b[0m         \u001b[1;32mfor\u001b[0m \u001b[0ma\u001b[0m \u001b[1;32min\u001b[0m \u001b[0martists\u001b[0m\u001b[1;33m:\u001b[0m\u001b[1;33m\u001b[0m\u001b[1;33m\u001b[0m\u001b[0m\n\u001b[1;32m--> 132\u001b[1;33m             \u001b[0ma\u001b[0m\u001b[1;33m.\u001b[0m\u001b[0mdraw\u001b[0m\u001b[1;33m(\u001b[0m\u001b[0mrenderer\u001b[0m\u001b[1;33m)\u001b[0m\u001b[1;33m\u001b[0m\u001b[1;33m\u001b[0m\u001b[0m\n\u001b[0m\u001b[0;32m    133\u001b[0m     \u001b[1;32melse\u001b[0m\u001b[1;33m:\u001b[0m\u001b[1;33m\u001b[0m\u001b[1;33m\u001b[0m\u001b[0m\n\u001b[0;32m    134\u001b[0m         \u001b[1;31m# Composite any adjacent images together\u001b[0m\u001b[1;33m\u001b[0m\u001b[1;33m\u001b[0m\u001b[0m\n",
      "\u001b[1;32mc:\\Users\\ofent\\Documents\\New folder\\lib\\site-packages\\matplotlib\\artist.py\u001b[0m in \u001b[0;36mdraw_wrapper\u001b[1;34m(artist, renderer, *args, **kwargs)\u001b[0m\n\u001b[0;32m     49\u001b[0m                 \u001b[0mrenderer\u001b[0m\u001b[1;33m.\u001b[0m\u001b[0mstart_filter\u001b[0m\u001b[1;33m(\u001b[0m\u001b[1;33m)\u001b[0m\u001b[1;33m\u001b[0m\u001b[1;33m\u001b[0m\u001b[0m\n\u001b[0;32m     50\u001b[0m \u001b[1;33m\u001b[0m\u001b[0m\n\u001b[1;32m---> 51\u001b[1;33m             \u001b[1;32mreturn\u001b[0m \u001b[0mdraw\u001b[0m\u001b[1;33m(\u001b[0m\u001b[0martist\u001b[0m\u001b[1;33m,\u001b[0m \u001b[0mrenderer\u001b[0m\u001b[1;33m,\u001b[0m \u001b[1;33m*\u001b[0m\u001b[0margs\u001b[0m\u001b[1;33m,\u001b[0m \u001b[1;33m**\u001b[0m\u001b[0mkwargs\u001b[0m\u001b[1;33m)\u001b[0m\u001b[1;33m\u001b[0m\u001b[1;33m\u001b[0m\u001b[0m\n\u001b[0m\u001b[0;32m     52\u001b[0m         \u001b[1;32mfinally\u001b[0m\u001b[1;33m:\u001b[0m\u001b[1;33m\u001b[0m\u001b[1;33m\u001b[0m\u001b[0m\n\u001b[0;32m     53\u001b[0m             \u001b[1;32mif\u001b[0m \u001b[0martist\u001b[0m\u001b[1;33m.\u001b[0m\u001b[0mget_agg_filter\u001b[0m\u001b[1;33m(\u001b[0m\u001b[1;33m)\u001b[0m \u001b[1;32mis\u001b[0m \u001b[1;32mnot\u001b[0m \u001b[1;32mNone\u001b[0m\u001b[1;33m:\u001b[0m\u001b[1;33m\u001b[0m\u001b[1;33m\u001b[0m\u001b[0m\n",
      "\u001b[1;32mc:\\Users\\ofent\\Documents\\New folder\\lib\\site-packages\\matplotlib\\_api\\deprecation.py\u001b[0m in \u001b[0;36mwrapper\u001b[1;34m(*inner_args, **inner_kwargs)\u001b[0m\n\u001b[0;32m    429\u001b[0m                          \u001b[1;32melse\u001b[0m \u001b[0mdeprecation_addendum\u001b[0m\u001b[1;33m,\u001b[0m\u001b[1;33m\u001b[0m\u001b[1;33m\u001b[0m\u001b[0m\n\u001b[0;32m    430\u001b[0m                 **kwargs)\n\u001b[1;32m--> 431\u001b[1;33m         \u001b[1;32mreturn\u001b[0m \u001b[0mfunc\u001b[0m\u001b[1;33m(\u001b[0m\u001b[1;33m*\u001b[0m\u001b[0minner_args\u001b[0m\u001b[1;33m,\u001b[0m \u001b[1;33m**\u001b[0m\u001b[0minner_kwargs\u001b[0m\u001b[1;33m)\u001b[0m\u001b[1;33m\u001b[0m\u001b[1;33m\u001b[0m\u001b[0m\n\u001b[0m\u001b[0;32m    432\u001b[0m \u001b[1;33m\u001b[0m\u001b[0m\n\u001b[0;32m    433\u001b[0m     \u001b[1;32mreturn\u001b[0m \u001b[0mwrapper\u001b[0m\u001b[1;33m\u001b[0m\u001b[1;33m\u001b[0m\u001b[0m\n",
      "\u001b[1;32mc:\\Users\\ofent\\Documents\\New folder\\lib\\site-packages\\matplotlib\\axes\\_base.py\u001b[0m in \u001b[0;36mdraw\u001b[1;34m(self, renderer, inframe)\u001b[0m\n\u001b[0;32m   2919\u001b[0m             \u001b[0mrenderer\u001b[0m\u001b[1;33m.\u001b[0m\u001b[0mstop_rasterizing\u001b[0m\u001b[1;33m(\u001b[0m\u001b[1;33m)\u001b[0m\u001b[1;33m\u001b[0m\u001b[1;33m\u001b[0m\u001b[0m\n\u001b[0;32m   2920\u001b[0m \u001b[1;33m\u001b[0m\u001b[0m\n\u001b[1;32m-> 2921\u001b[1;33m         \u001b[0mmimage\u001b[0m\u001b[1;33m.\u001b[0m\u001b[0m_draw_list_compositing_images\u001b[0m\u001b[1;33m(\u001b[0m\u001b[0mrenderer\u001b[0m\u001b[1;33m,\u001b[0m \u001b[0mself\u001b[0m\u001b[1;33m,\u001b[0m \u001b[0martists\u001b[0m\u001b[1;33m)\u001b[0m\u001b[1;33m\u001b[0m\u001b[1;33m\u001b[0m\u001b[0m\n\u001b[0m\u001b[0;32m   2922\u001b[0m \u001b[1;33m\u001b[0m\u001b[0m\n\u001b[0;32m   2923\u001b[0m         \u001b[0mrenderer\u001b[0m\u001b[1;33m.\u001b[0m\u001b[0mclose_group\u001b[0m\u001b[1;33m(\u001b[0m\u001b[1;34m'axes'\u001b[0m\u001b[1;33m)\u001b[0m\u001b[1;33m\u001b[0m\u001b[1;33m\u001b[0m\u001b[0m\n",
      "\u001b[1;32mc:\\Users\\ofent\\Documents\\New folder\\lib\\site-packages\\matplotlib\\image.py\u001b[0m in \u001b[0;36m_draw_list_compositing_images\u001b[1;34m(renderer, parent, artists, suppress_composite)\u001b[0m\n\u001b[0;32m    130\u001b[0m     \u001b[1;32mif\u001b[0m \u001b[0mnot_composite\u001b[0m \u001b[1;32mor\u001b[0m \u001b[1;32mnot\u001b[0m \u001b[0mhas_images\u001b[0m\u001b[1;33m:\u001b[0m\u001b[1;33m\u001b[0m\u001b[1;33m\u001b[0m\u001b[0m\n\u001b[0;32m    131\u001b[0m         \u001b[1;32mfor\u001b[0m \u001b[0ma\u001b[0m \u001b[1;32min\u001b[0m \u001b[0martists\u001b[0m\u001b[1;33m:\u001b[0m\u001b[1;33m\u001b[0m\u001b[1;33m\u001b[0m\u001b[0m\n\u001b[1;32m--> 132\u001b[1;33m             \u001b[0ma\u001b[0m\u001b[1;33m.\u001b[0m\u001b[0mdraw\u001b[0m\u001b[1;33m(\u001b[0m\u001b[0mrenderer\u001b[0m\u001b[1;33m)\u001b[0m\u001b[1;33m\u001b[0m\u001b[1;33m\u001b[0m\u001b[0m\n\u001b[0m\u001b[0;32m    133\u001b[0m     \u001b[1;32melse\u001b[0m\u001b[1;33m:\u001b[0m\u001b[1;33m\u001b[0m\u001b[1;33m\u001b[0m\u001b[0m\n\u001b[0;32m    134\u001b[0m         \u001b[1;31m# Composite any adjacent images together\u001b[0m\u001b[1;33m\u001b[0m\u001b[1;33m\u001b[0m\u001b[0m\n",
      "\u001b[1;32mc:\\Users\\ofent\\Documents\\New folder\\lib\\site-packages\\matplotlib\\artist.py\u001b[0m in \u001b[0;36mdraw_wrapper\u001b[1;34m(artist, renderer, *args, **kwargs)\u001b[0m\n\u001b[0;32m     49\u001b[0m                 \u001b[0mrenderer\u001b[0m\u001b[1;33m.\u001b[0m\u001b[0mstart_filter\u001b[0m\u001b[1;33m(\u001b[0m\u001b[1;33m)\u001b[0m\u001b[1;33m\u001b[0m\u001b[1;33m\u001b[0m\u001b[0m\n\u001b[0;32m     50\u001b[0m \u001b[1;33m\u001b[0m\u001b[0m\n\u001b[1;32m---> 51\u001b[1;33m             \u001b[1;32mreturn\u001b[0m \u001b[0mdraw\u001b[0m\u001b[1;33m(\u001b[0m\u001b[0martist\u001b[0m\u001b[1;33m,\u001b[0m \u001b[0mrenderer\u001b[0m\u001b[1;33m,\u001b[0m \u001b[1;33m*\u001b[0m\u001b[0margs\u001b[0m\u001b[1;33m,\u001b[0m \u001b[1;33m**\u001b[0m\u001b[0mkwargs\u001b[0m\u001b[1;33m)\u001b[0m\u001b[1;33m\u001b[0m\u001b[1;33m\u001b[0m\u001b[0m\n\u001b[0m\u001b[0;32m     52\u001b[0m         \u001b[1;32mfinally\u001b[0m\u001b[1;33m:\u001b[0m\u001b[1;33m\u001b[0m\u001b[1;33m\u001b[0m\u001b[0m\n\u001b[0;32m     53\u001b[0m             \u001b[1;32mif\u001b[0m \u001b[0martist\u001b[0m\u001b[1;33m.\u001b[0m\u001b[0mget_agg_filter\u001b[0m\u001b[1;33m(\u001b[0m\u001b[1;33m)\u001b[0m \u001b[1;32mis\u001b[0m \u001b[1;32mnot\u001b[0m \u001b[1;32mNone\u001b[0m\u001b[1;33m:\u001b[0m\u001b[1;33m\u001b[0m\u001b[1;33m\u001b[0m\u001b[0m\n",
      "\u001b[1;32mc:\\Users\\ofent\\Documents\\New folder\\lib\\site-packages\\matplotlib\\axis.py\u001b[0m in \u001b[0;36mdraw\u001b[1;34m(self, renderer, *args, **kwargs)\u001b[0m\n\u001b[0;32m   1139\u001b[0m         \u001b[0mrenderer\u001b[0m\u001b[1;33m.\u001b[0m\u001b[0mopen_group\u001b[0m\u001b[1;33m(\u001b[0m\u001b[0m__name__\u001b[0m\u001b[1;33m,\u001b[0m \u001b[0mgid\u001b[0m\u001b[1;33m=\u001b[0m\u001b[0mself\u001b[0m\u001b[1;33m.\u001b[0m\u001b[0mget_gid\u001b[0m\u001b[1;33m(\u001b[0m\u001b[1;33m)\u001b[0m\u001b[1;33m)\u001b[0m\u001b[1;33m\u001b[0m\u001b[1;33m\u001b[0m\u001b[0m\n\u001b[0;32m   1140\u001b[0m \u001b[1;33m\u001b[0m\u001b[0m\n\u001b[1;32m-> 1141\u001b[1;33m         \u001b[0mticks_to_draw\u001b[0m \u001b[1;33m=\u001b[0m \u001b[0mself\u001b[0m\u001b[1;33m.\u001b[0m\u001b[0m_update_ticks\u001b[0m\u001b[1;33m(\u001b[0m\u001b[1;33m)\u001b[0m\u001b[1;33m\u001b[0m\u001b[1;33m\u001b[0m\u001b[0m\n\u001b[0m\u001b[0;32m   1142\u001b[0m         ticklabelBoxes, ticklabelBoxes2 = self._get_tick_bboxes(ticks_to_draw,\n\u001b[0;32m   1143\u001b[0m                                                                 renderer)\n",
      "\u001b[1;32mc:\\Users\\ofent\\Documents\\New folder\\lib\\site-packages\\matplotlib\\axis.py\u001b[0m in \u001b[0;36m_update_ticks\u001b[1;34m(self)\u001b[0m\n\u001b[0;32m   1026\u001b[0m         \u001b[0mthe\u001b[0m \u001b[0maxes\u001b[0m\u001b[1;33m.\u001b[0m  \u001b[0mReturn\u001b[0m \u001b[0mthe\u001b[0m \u001b[0mlist\u001b[0m \u001b[0mof\u001b[0m \u001b[0mticks\u001b[0m \u001b[0mthat\u001b[0m \u001b[0mwill\u001b[0m \u001b[0mbe\u001b[0m \u001b[0mdrawn\u001b[0m\u001b[1;33m.\u001b[0m\u001b[1;33m\u001b[0m\u001b[1;33m\u001b[0m\u001b[0m\n\u001b[0;32m   1027\u001b[0m         \"\"\"\n\u001b[1;32m-> 1028\u001b[1;33m         \u001b[0mmajor_locs\u001b[0m \u001b[1;33m=\u001b[0m \u001b[0mself\u001b[0m\u001b[1;33m.\u001b[0m\u001b[0mget_majorticklocs\u001b[0m\u001b[1;33m(\u001b[0m\u001b[1;33m)\u001b[0m\u001b[1;33m\u001b[0m\u001b[1;33m\u001b[0m\u001b[0m\n\u001b[0m\u001b[0;32m   1029\u001b[0m         \u001b[0mmajor_labels\u001b[0m \u001b[1;33m=\u001b[0m \u001b[0mself\u001b[0m\u001b[1;33m.\u001b[0m\u001b[0mmajor\u001b[0m\u001b[1;33m.\u001b[0m\u001b[0mformatter\u001b[0m\u001b[1;33m.\u001b[0m\u001b[0mformat_ticks\u001b[0m\u001b[1;33m(\u001b[0m\u001b[0mmajor_locs\u001b[0m\u001b[1;33m)\u001b[0m\u001b[1;33m\u001b[0m\u001b[1;33m\u001b[0m\u001b[0m\n\u001b[0;32m   1030\u001b[0m         \u001b[0mmajor_ticks\u001b[0m \u001b[1;33m=\u001b[0m \u001b[0mself\u001b[0m\u001b[1;33m.\u001b[0m\u001b[0mget_major_ticks\u001b[0m\u001b[1;33m(\u001b[0m\u001b[0mlen\u001b[0m\u001b[1;33m(\u001b[0m\u001b[0mmajor_locs\u001b[0m\u001b[1;33m)\u001b[0m\u001b[1;33m)\u001b[0m\u001b[1;33m\u001b[0m\u001b[1;33m\u001b[0m\u001b[0m\n",
      "\u001b[1;32mc:\\Users\\ofent\\Documents\\New folder\\lib\\site-packages\\matplotlib\\axis.py\u001b[0m in \u001b[0;36mget_majorticklocs\u001b[1;34m(self)\u001b[0m\n\u001b[0;32m   1258\u001b[0m     \u001b[1;32mdef\u001b[0m \u001b[0mget_majorticklocs\u001b[0m\u001b[1;33m(\u001b[0m\u001b[0mself\u001b[0m\u001b[1;33m)\u001b[0m\u001b[1;33m:\u001b[0m\u001b[1;33m\u001b[0m\u001b[1;33m\u001b[0m\u001b[0m\n\u001b[0;32m   1259\u001b[0m         \u001b[1;34m\"\"\"Return this Axis' major tick locations in data coordinates.\"\"\"\u001b[0m\u001b[1;33m\u001b[0m\u001b[1;33m\u001b[0m\u001b[0m\n\u001b[1;32m-> 1260\u001b[1;33m         \u001b[1;32mreturn\u001b[0m \u001b[0mself\u001b[0m\u001b[1;33m.\u001b[0m\u001b[0mmajor\u001b[0m\u001b[1;33m.\u001b[0m\u001b[0mlocator\u001b[0m\u001b[1;33m(\u001b[0m\u001b[1;33m)\u001b[0m\u001b[1;33m\u001b[0m\u001b[1;33m\u001b[0m\u001b[0m\n\u001b[0m\u001b[0;32m   1261\u001b[0m \u001b[1;33m\u001b[0m\u001b[0m\n\u001b[0;32m   1262\u001b[0m     \u001b[1;32mdef\u001b[0m \u001b[0mget_minorticklocs\u001b[0m\u001b[1;33m(\u001b[0m\u001b[0mself\u001b[0m\u001b[1;33m)\u001b[0m\u001b[1;33m:\u001b[0m\u001b[1;33m\u001b[0m\u001b[1;33m\u001b[0m\u001b[0m\n",
      "\u001b[1;32mc:\\Users\\ofent\\Documents\\New folder\\lib\\site-packages\\matplotlib\\ticker.py\u001b[0m in \u001b[0;36m__call__\u001b[1;34m(self)\u001b[0m\n\u001b[0;32m   2262\u001b[0m     \u001b[1;32mdef\u001b[0m \u001b[0m__call__\u001b[0m\u001b[1;33m(\u001b[0m\u001b[0mself\u001b[0m\u001b[1;33m)\u001b[0m\u001b[1;33m:\u001b[0m\u001b[1;33m\u001b[0m\u001b[1;33m\u001b[0m\u001b[0m\n\u001b[0;32m   2263\u001b[0m         \u001b[0mvmin\u001b[0m\u001b[1;33m,\u001b[0m \u001b[0mvmax\u001b[0m \u001b[1;33m=\u001b[0m \u001b[0mself\u001b[0m\u001b[1;33m.\u001b[0m\u001b[0maxis\u001b[0m\u001b[1;33m.\u001b[0m\u001b[0mget_view_interval\u001b[0m\u001b[1;33m(\u001b[0m\u001b[1;33m)\u001b[0m\u001b[1;33m\u001b[0m\u001b[1;33m\u001b[0m\u001b[0m\n\u001b[1;32m-> 2264\u001b[1;33m         \u001b[1;32mreturn\u001b[0m \u001b[0mself\u001b[0m\u001b[1;33m.\u001b[0m\u001b[0mtick_values\u001b[0m\u001b[1;33m(\u001b[0m\u001b[0mvmin\u001b[0m\u001b[1;33m,\u001b[0m \u001b[0mvmax\u001b[0m\u001b[1;33m)\u001b[0m\u001b[1;33m\u001b[0m\u001b[1;33m\u001b[0m\u001b[0m\n\u001b[0m\u001b[0;32m   2265\u001b[0m \u001b[1;33m\u001b[0m\u001b[0m\n\u001b[0;32m   2266\u001b[0m     \u001b[1;32mdef\u001b[0m \u001b[0mtick_values\u001b[0m\u001b[1;33m(\u001b[0m\u001b[0mself\u001b[0m\u001b[1;33m,\u001b[0m \u001b[0mvmin\u001b[0m\u001b[1;33m,\u001b[0m \u001b[0mvmax\u001b[0m\u001b[1;33m)\u001b[0m\u001b[1;33m:\u001b[0m\u001b[1;33m\u001b[0m\u001b[1;33m\u001b[0m\u001b[0m\n",
      "\u001b[1;32mc:\\Users\\ofent\\Documents\\New folder\\lib\\site-packages\\matplotlib\\ticker.py\u001b[0m in \u001b[0;36mtick_values\u001b[1;34m(self, vmin, vmax)\u001b[0m\n\u001b[0;32m   2270\u001b[0m         vmin, vmax = mtransforms.nonsingular(\n\u001b[0;32m   2271\u001b[0m             vmin, vmax, expander=1e-13, tiny=1e-14)\n\u001b[1;32m-> 2272\u001b[1;33m         \u001b[0mlocs\u001b[0m \u001b[1;33m=\u001b[0m \u001b[0mself\u001b[0m\u001b[1;33m.\u001b[0m\u001b[0m_raw_ticks\u001b[0m\u001b[1;33m(\u001b[0m\u001b[0mvmin\u001b[0m\u001b[1;33m,\u001b[0m \u001b[0mvmax\u001b[0m\u001b[1;33m)\u001b[0m\u001b[1;33m\u001b[0m\u001b[1;33m\u001b[0m\u001b[0m\n\u001b[0m\u001b[0;32m   2273\u001b[0m \u001b[1;33m\u001b[0m\u001b[0m\n\u001b[0;32m   2274\u001b[0m         \u001b[0mprune\u001b[0m \u001b[1;33m=\u001b[0m \u001b[0mself\u001b[0m\u001b[1;33m.\u001b[0m\u001b[0m_prune\u001b[0m\u001b[1;33m\u001b[0m\u001b[1;33m\u001b[0m\u001b[0m\n",
      "\u001b[1;32mc:\\Users\\ofent\\Documents\\New folder\\lib\\site-packages\\matplotlib\\ticker.py\u001b[0m in \u001b[0;36m_raw_ticks\u001b[1;34m(self, vmin, vmax)\u001b[0m\n\u001b[0;32m   2209\u001b[0m         \u001b[1;32mif\u001b[0m \u001b[0mself\u001b[0m\u001b[1;33m.\u001b[0m\u001b[0m_nbins\u001b[0m \u001b[1;33m==\u001b[0m \u001b[1;34m'auto'\u001b[0m\u001b[1;33m:\u001b[0m\u001b[1;33m\u001b[0m\u001b[1;33m\u001b[0m\u001b[0m\n\u001b[0;32m   2210\u001b[0m             \u001b[1;32mif\u001b[0m \u001b[0mself\u001b[0m\u001b[1;33m.\u001b[0m\u001b[0maxis\u001b[0m \u001b[1;32mis\u001b[0m \u001b[1;32mnot\u001b[0m \u001b[1;32mNone\u001b[0m\u001b[1;33m:\u001b[0m\u001b[1;33m\u001b[0m\u001b[1;33m\u001b[0m\u001b[0m\n\u001b[1;32m-> 2211\u001b[1;33m                 nbins = np.clip(self.axis.get_tick_space(),\n\u001b[0m\u001b[0;32m   2212\u001b[0m                                 max(1, self._min_n_ticks - 1), 9)\n\u001b[0;32m   2213\u001b[0m             \u001b[1;32melse\u001b[0m\u001b[1;33m:\u001b[0m\u001b[1;33m\u001b[0m\u001b[1;33m\u001b[0m\u001b[0m\n",
      "\u001b[1;32mc:\\Users\\ofent\\Documents\\New folder\\lib\\site-packages\\matplotlib\\axis.py\u001b[0m in \u001b[0;36mget_tick_space\u001b[1;34m(self)\u001b[0m\n\u001b[0;32m   2275\u001b[0m         \u001b[0msize\u001b[0m \u001b[1;33m=\u001b[0m \u001b[0mself\u001b[0m\u001b[1;33m.\u001b[0m\u001b[0m_get_tick_label_size\u001b[0m\u001b[1;33m(\u001b[0m\u001b[1;34m'x'\u001b[0m\u001b[1;33m)\u001b[0m \u001b[1;33m*\u001b[0m \u001b[1;36m3\u001b[0m\u001b[1;33m\u001b[0m\u001b[1;33m\u001b[0m\u001b[0m\n\u001b[0;32m   2276\u001b[0m         \u001b[1;32mif\u001b[0m \u001b[0msize\u001b[0m \u001b[1;33m>\u001b[0m \u001b[1;36m0\u001b[0m\u001b[1;33m:\u001b[0m\u001b[1;33m\u001b[0m\u001b[1;33m\u001b[0m\u001b[0m\n\u001b[1;32m-> 2277\u001b[1;33m             \u001b[1;32mreturn\u001b[0m \u001b[0mint\u001b[0m\u001b[1;33m(\u001b[0m\u001b[0mnp\u001b[0m\u001b[1;33m.\u001b[0m\u001b[0mfloor\u001b[0m\u001b[1;33m(\u001b[0m\u001b[0mlength\u001b[0m \u001b[1;33m/\u001b[0m \u001b[0msize\u001b[0m\u001b[1;33m)\u001b[0m\u001b[1;33m)\u001b[0m\u001b[1;33m\u001b[0m\u001b[1;33m\u001b[0m\u001b[0m\n\u001b[0m\u001b[0;32m   2278\u001b[0m         \u001b[1;32melse\u001b[0m\u001b[1;33m:\u001b[0m\u001b[1;33m\u001b[0m\u001b[1;33m\u001b[0m\u001b[0m\n\u001b[0;32m   2279\u001b[0m             \u001b[1;32mreturn\u001b[0m \u001b[1;36m2\u001b[0m\u001b[1;33m**\u001b[0m\u001b[1;36m31\u001b[0m \u001b[1;33m-\u001b[0m \u001b[1;36m1\u001b[0m\u001b[1;33m\u001b[0m\u001b[1;33m\u001b[0m\u001b[0m\n",
      "\u001b[1;31mValueError\u001b[0m: cannot convert float NaN to integer"
     ]
    },
    {
     "data": {
      "text/plain": [
       "<Figure size 864x576 with 1 Axes>"
      ]
     },
     "metadata": {
      "needs_background": "light"
     },
     "output_type": "display_data"
    }
   ],
   "source": [
    "import geopandas as gpd\n",
    "import matplotlib.pyplot as plt\n",
    "\n",
    "# Filter for Chinese airports\n",
    "china_airports = globalAirport[globalAirport['Country'] == 'China']\n",
    "\n",
    "# Drop rows with missing latitude or longitude\n",
    "china_airports = china_airports.dropna(subset=['LatitudeDecimalDegrees', 'LongitudeDecimalDegrees'])\n",
    "\n",
    "# Create geometry column using latitude and longitude\n",
    "geometry = gpd.points_from_xy(china_airports['LongitudeDecimalDegrees'], china_airports['LatitudeDecimalDegrees'])\n",
    "geo_china_airports = gpd.GeoDataFrame(china_airports, geometry=geometry)\n",
    "\n",
    "# Set coordinate reference system to WGS84\n",
    "geo_china_airports.crs = \"EPSG:4326\"\n",
    "\n",
    "# Plot setup\n",
    "fig, ax = plt.subplots(figsize=(12, 8))\n",
    "world = gpd.read_file(gpd.datasets.get_path('naturalearth_lowres'))\n",
    "china = world[world.name == \"China\"]\n",
    "\n",
    "# Plot China's boundaries\n",
    "china.boundary.plot(ax=ax, linewidth=1, color='black')\n",
    "\n",
    "# Plot airport locations in China\n",
    "geo_china_airports.plot(\n",
    "    ax=ax, \n",
    "    marker='o', \n",
    "    color='blue', \n",
    "    markersize=5,  # Adjust as needed or use a column for sizing\n",
    "    alpha=0.5, \n",
    "    label='Airports'\n",
    ")\n",
    "\n",
    "# Titles and labels\n",
    "plt.title('Airports in China')\n",
    "plt.xlabel('Longitude')\n",
    "plt.ylabel('Latitude')\n",
    "plt.legend()\n",
    "\n",
    "plt.show()\n",
    "\n",
    "\n"
   ]
  }
 ],
 "metadata": {
  "kernelspec": {
   "display_name": "Python 3",
   "language": "python",
   "name": "python3"
  },
  "language_info": {
   "codemirror_mode": {
    "name": "ipython",
    "version": 3
   },
   "file_extension": ".py",
   "mimetype": "text/x-python",
   "name": "python",
   "nbconvert_exporter": "python",
   "pygments_lexer": "ipython3",
   "version": "3.9.7"
  }
 },
 "nbformat": 4,
 "nbformat_minor": 2
}
